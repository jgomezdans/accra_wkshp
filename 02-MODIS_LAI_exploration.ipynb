{
 "cells": [
  {
   "cell_type": "markdown",
   "metadata": {
    "toc": true
   },
   "source": [
    "<h1>Table of Contents<span class=\"tocSkip\"></span></h1>\n",
    "<div class=\"toc\"><ul class=\"toc-item\"><li><span><a href=\"#LAI-and/or-$fAPAR$-extraction\" data-toc-modified-id=\"LAI-and/or-$fAPAR$-extraction-1\"><span class=\"toc-item-num\">1&nbsp;&nbsp;</span>LAI and/or $fAPAR$ extraction</a></span><ul class=\"toc-item\"><li><span><a href=\"#Exercise\" data-toc-modified-id=\"Exercise-1.1\"><span class=\"toc-item-num\">1.1&nbsp;&nbsp;</span>Exercise</a></span></li></ul></li><li><span><a href=\"#From-LAI-to-yield?\" data-toc-modified-id=\"From-LAI-to-yield?-2\"><span class=\"toc-item-num\">2&nbsp;&nbsp;</span>From LAI to yield?</a></span><ul class=\"toc-item\"><li><span><a href=\"#Exercise\" data-toc-modified-id=\"Exercise-2.1\"><span class=\"toc-item-num\">2.1&nbsp;&nbsp;</span>Exercise</a></span></li></ul></li></ul></div>"
   ]
  },
  {
   "cell_type": "code",
   "execution_count": 55,
   "metadata": {},
   "outputs": [
    {
     "name": "stdout",
     "output_type": "stream",
     "text": [
      "The autoreload extension is already loaded. To reload it, use:\n",
      "  %reload_ext autoreload\n"
     ]
    }
   ],
   "source": [
    "%load_ext autoreload\n",
    "%autoreload 2\n",
    "\n",
    "import numpy as np\n",
    "import datetime as dt\n",
    "import matplotlib.pyplot as plt\n",
    "import gdal\n",
    "import pandas as pd\n",
    "%matplotlib inline\n",
    "\n",
    "from modis_funcs import *"
   ]
  },
  {
   "cell_type": "markdown",
   "metadata": {},
   "source": [
    "# Leaf area index (LAI) from the MODIS sensors\n",
    "\n",
    "The MODIS sensors have been acquiring data for the past two decades. The MODIS team has produced a large set of useful global land, atmosphere and ocean products, incluiding an LAI and fAPAR product. We have processed data over Ghana since 2002, and will now explore how the data looks like. We will be extracting area averaged estimates (in this case, we'll average over one of Ghana's 216 districts). We will also use a land cover product to select a particular land cover type (e.g. croplands, or forests). Our aim is to visualise and try to understand the dynamics of LAI over time. \n",
    "\n",
    "## LAI and/or $fAPAR$ extraction\n",
    "\n",
    "We have downloaded and processed the [MODIS MCD15A2H product](https://lpdaac.usgs.gov/products/mcd15a2hv006/), which provides LAI and $fAPAR$ every 8 days from the combined observations of the TERRA and AQUA satellites. The product has been mosaicked to cover the whole of Ghana, and is available remotely. We have also collated the [MODIS MCD12Q1 product](https://lpdaac.usgs.gov/products/mcd12q1v006/) so you can select pixels that were classified as comin g from a particular land cover class.\n",
    "\n",
    "The next cell gives you an easy GUI to extract the data. The data is extracted into a pandas dataframe, so you can easily save it to a CSV file for further playing around with it.\n",
    "\n",
    "\n",
    "Be aware that running the data extraction GUI takes a bit! There's a lot of data to chomp through!!\n",
    "\n",
    "### Exercise\n",
    "\n",
    "Try selecting a particular district (e.g. Garu Tempane), and plotting\n",
    "\n",
    "* LAI and fAPAR for years 2012 to 2017\n",
    "* Change the Land cover from e.g. Woody Savannas to e.g. Croplands\n",
    "* Try to spot patterns within years and land cover classes\n",
    "\n",
    "\n",
    "Both plots and data are saved in the main folder (you can download them to your local disk). Feel free to experiment with them.\n",
    "\n",
    "\n"
   ]
  },
  {
   "cell_type": "code",
   "execution_count": 56,
   "metadata": {},
   "outputs": [
    {
     "data": {
      "application/vnd.jupyter.widget-view+json": {
       "model_id": "b9c1c6b6fb9040919264e30446d6d478",
       "version_major": 2,
       "version_minor": 0
      },
      "text/plain": [
       "interactive(children=(Dropdown(description='district', index=193, options=('Jomoro', 'Ellembelle', 'Nzema East…"
      ]
     },
     "metadata": {},
     "output_type": "display_data"
    }
   ],
   "source": [
    "w = select_region_modis_lai()\n",
    "w"
   ]
  },
  {
   "cell_type": "markdown",
   "metadata": {},
   "source": [
    "You can easily plot all your attempts in here. Double click on this cell, and add the following Markdown code to plot graphs:\n",
    "```\n",
    "![](./Garu%20Tempane_Croplands_fAPAR.png)\n",
    "```\n",
    "\n"
   ]
  },
  {
   "cell_type": "markdown",
   "metadata": {},
   "source": [
    "## From LAI to yield?\n",
    "\n",
    "In the absence of any information, we may think about ways of interpreting LAI and/or fAPAR. If we think of these two parameters are indicating the amount of leaves in the canopy, we can probably guess that a year where we have \"fewer\" leaves is a bad year, and one where we have \"lots of leaves\" is a good year. With this data, we can define a climatology and maybe look at some form of anomaly (e.g. a $z$ score). But we have data every (say) 8 days: what period do we choose? Obviously, we need to know when crops are likely to be in the ground. We could actually use the LAI to figure things out, but the data appears quite noisy. Let's just see whether we can see any differences by selecting the dates ourselves.\n",
    "\n",
    "\n",
    "### Exercise\n",
    "\n",
    "The next bit of code allows you to play around with the timing and plots the cummulative LAI as a function of day of year for the years you have extracted."
   ]
  },
  {
   "cell_type": "code",
   "execution_count": 58,
   "metadata": {},
   "outputs": [
    {
     "data": {
      "application/vnd.jupyter.widget-view+json": {
       "model_id": "bad3f735c6e84dd691554c6e712c5759",
       "version_major": 2,
       "version_minor": 0
      },
      "text/plain": [
       "interactive(children=(SelectionRangeSlider(description='Sowing & Harvest', index=(0, 364), layout=Layout(width…"
      ]
     },
     "metadata": {},
     "output_type": "display_data"
    }
   ],
   "source": [
    "df = w.result\n",
    "# or\n",
    "# df = pd.read_csv(\"./Garu Tempane_Croplands_LAI.csv\")\n",
    "cummulative_lai_plots(df);"
   ]
  },
  {
   "cell_type": "code",
   "execution_count": null,
   "metadata": {},
   "outputs": [],
   "source": []
  }
 ],
 "metadata": {
  "kernelspec": {
   "display_name": "Python 3",
   "language": "python",
   "name": "python3"
  },
  "language_info": {
   "codemirror_mode": {
    "name": "ipython",
    "version": 3
   },
   "file_extension": ".py",
   "mimetype": "text/x-python",
   "name": "python",
   "nbconvert_exporter": "python",
   "pygments_lexer": "ipython3",
   "version": "3.6.7"
  },
  "toc": {
   "base_numbering": 1,
   "nav_menu": {},
   "number_sections": true,
   "sideBar": true,
   "skip_h1_title": true,
   "title_cell": "Table of Contents",
   "title_sidebar": "Contents",
   "toc_cell": true,
   "toc_position": {},
   "toc_section_display": true,
   "toc_window_display": false
  },
  "varInspector": {
   "cols": {
    "lenName": 16,
    "lenType": 16,
    "lenVar": 40
   },
   "kernels_config": {
    "python": {
     "delete_cmd_postfix": "",
     "delete_cmd_prefix": "del ",
     "library": "var_list.py",
     "varRefreshCmd": "print(var_dic_list())"
    },
    "r": {
     "delete_cmd_postfix": ") ",
     "delete_cmd_prefix": "rm(",
     "library": "var_list.r",
     "varRefreshCmd": "cat(var_dic_list()) "
    }
   },
   "types_to_exclude": [
    "module",
    "function",
    "builtin_function_or_method",
    "instance",
    "_Feature"
   ],
   "window_display": false
  }
 },
 "nbformat": 4,
 "nbformat_minor": 4
}
