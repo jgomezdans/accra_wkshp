{
 "cells": [
  {
   "cell_type": "markdown",
   "metadata": {
    "toc": true
   },
   "source": [
    "<h1>Table of Contents<span class=\"tocSkip\"></span></h1>\n",
    "<div class=\"toc\"><ul class=\"toc-item\"><li><span><a href=\"#The-simplest-ageometeorological-crop-model\" data-toc-modified-id=\"The-simplest-ageometeorological-crop-model-1\"><span class=\"toc-item-num\">1&nbsp;&nbsp;</span>The simplest ageometeorological crop model</a></span><ul class=\"toc-item\"><li><span><a href=\"#Main-crop-modelling:-production-efficiency-model-(PEM)\" data-toc-modified-id=\"Main-crop-modelling:-production-efficiency-model-(PEM)-1.1\"><span class=\"toc-item-num\">1.1&nbsp;&nbsp;</span>Main crop modelling: production efficiency model (PEM)</a></span></li><li><span><a href=\"#Crop-limitations\" data-toc-modified-id=\"Crop-limitations-1.2\"><span class=\"toc-item-num\">1.2&nbsp;&nbsp;</span>Crop limitations</a></span><ul class=\"toc-item\"><li><span><a href=\"#Temperature-control\" data-toc-modified-id=\"Temperature-control-1.2.1\"><span class=\"toc-item-num\">1.2.1&nbsp;&nbsp;</span>Temperature control</a></span></li><li><span><a href=\"#Water-availability\" data-toc-modified-id=\"Water-availability-1.2.2\"><span class=\"toc-item-num\">1.2.2&nbsp;&nbsp;</span>Water availability</a></span></li></ul></li></ul></li><li><span><a href=\"#The-model\" data-toc-modified-id=\"The-model-2\"><span class=\"toc-item-num\">2&nbsp;&nbsp;</span>The model</a></span></li></ul></div>"
   ]
  },
  {
   "cell_type": "code",
   "execution_count": 1,
   "metadata": {},
   "outputs": [
    {
     "name": "stderr",
     "output_type": "stream",
     "text": [
      "/home/ucfajlg/.local/lib/python3.6/site-packages/tqdm/autonotebook/__init__.py:14: TqdmExperimentalWarning: Using `tqdm.autonotebook.tqdm` in notebook mode. Use `tqdm.tqdm` instead to force console mode (e.g. in jupyter console)\n",
      "  \" (e.g. in jupyter console)\", TqdmExperimentalWarning)\n"
     ]
    }
   ],
   "source": [
    "%load_ext autoreload\n",
    "%autoreload 2\n",
    "\n",
    "import numpy as np\n",
    "import datetime as dt\n",
    "import matplotlib.pyplot as plt\n",
    "import gdal\n",
    "import pandas as pd\n",
    "%matplotlib inline\n",
    "\n",
    "from modis_funcs import *\n",
    "from meteo_funcs import *"
   ]
  },
  {
   "cell_type": "markdown",
   "metadata": {},
   "source": [
    "## The simplest ageometeorological crop model\n",
    "\n",
    "### Main crop modelling: production efficiency model (PEM)\n",
    "\n",
    "We can think of the crop turning incoming radiation into carbon, which then gets allocated to different organs (including leave, grain, roots, etc.). The simple PEM model introduced by Monteith is basically that gross primary productivity (GPP) can be written as\n",
    "\n",
    "$$\n",
    "GPP(t) = fAPAR\\cdot PAR_{inc} \\cdot \\epsilon,\n",
    "$$\n",
    "\n",
    "where $fAPAR$ is the fraction of active photosynthetic radiation absorbed by the canopy (hence related to the amount and colour of leaves), $PAR_{inc}$ is the incoming radiation in the PAR region ($400-700 \\textrm{nm}$), and $\\epsilon$ is an energy conversion factor (e.g. how many grams of C per square meter do we produce for a given amount of absorbed radiation).\n",
    "\n",
    "This model is incredibly simple: we do not account for any stressors, pests, management, soils, ... But simplicity has its own advantages!\n",
    "\n",
    "\n",
    "### Crop limitations\n",
    "\n",
    "In warm climates, we have two main limitations to crop develoment: water availability and heat.\n",
    "\n"
   ]
  },
  {
   "cell_type": "markdown",
   "metadata": {},
   "source": [
    "\n",
    "#### Temperature control\n",
    "\n",
    "Photosynthesis is controlled by temperature, with typically a \"cold\" cutoff point, an optimal temperature, and a point where too much heat hampers photosynthetic activity:\n",
    "\n",
    "$$\n",
    "f(T)=\\begin{cases}\n",
    "0\\; T<T_{thresh,min}\\\\\n",
    "\\frac{T-T_{thresh,min}}{T_{thresh,opt} - T_{thresh,min}}\\; T_{thresh,min} \\le T \\le T_{thresh,opt}\\\\\n",
    "\\frac{T_{thresh,max} - T}{T_{thresh,max} - T_{thresh,opt}}\\;  T \\ge T_{thresh,opt}\\\\\n",
    "\\end{cases}\n",
    "$$\n"
   ]
  },
  {
   "cell_type": "code",
   "execution_count": 2,
   "metadata": {},
   "outputs": [
    {
     "data": {
      "text/plain": [
       "Text(0, 0.5, 'C assim rate [-]')"
      ]
     },
     "execution_count": 2,
     "metadata": {},
     "output_type": "execute_result"
    },
    {
     "data": {
      "image/png": "[encoded data removed]",
      "text/plain": [
       "<Figure size 432x288 with 1 Axes>"
      ]
     },
     "metadata": {
      "needs_background": "light"
     },
     "output_type": "display_data"
    }
   ],
   "source": [
    "def temp_constraint(temp, t_min=12, t_max=41, t_opt=28):\n",
    "    f_temp = np.zeros_like(temp)\n",
    "    f_temp[temp < t_min] = 0.\n",
    "    f_temp = np.where(np.logical_and(t_min <= temp, temp <= t_opt),\n",
    "             (temp - t_min)/(t_opt - t_min),\n",
    "             f_temp)\n",
    "    f_temp = np.where(temp >= t_opt,\n",
    "             (t_max - temp)/(t_max-t_opt),\n",
    "             f_temp)\n",
    "    f_temp[f_temp<0] = 0.\n",
    "    return f_temp\n",
    "temp_axs = np.arange(10, 50, 2)\n",
    "plt.plot(temp_axs, temp_constraint(temp_axs))\n",
    "plt.xlabel(\"Temperature [deg C]\")\n",
    "plt.ylabel(\"C assim rate [-]\")"
   ]
  },
  {
   "cell_type": "markdown",
   "metadata": {},
   "source": [
    "#### Water availability\n",
    "If we consider that vegetation growth is only limited by water availability, a simple model would basically look at water balance: precipitation minus evapotranspiration. If this balance is positive (more rain than ET), we may initially conclude that in principle, crops will not be stressed by drought. One of the simplest ways to calculate ET is to use a version of Hargreaves equation:\n",
    "\n",
    "$$\n",
    "ET_{0} = \\frac{0.0023}{\\lambda}\\cdot \\left[T_{max} - T_{min} \\right]^{0.5}\\cdot R_{surf}\\left[T_{mean} - 17.8\\right]\n",
    "$$\n",
    "where the daily reference evapotranspiration $ET_0$ is given in $[mm\\cdot d^{1}]$, $T_{max,min,mean}$ are respectively the daily max, min and mean temperatures in degrees C, $R_{surf}$ is the surface radiance in $kJm^{-2}d^{-1}$ and $\\lambda$ is the latent heat of vaporisation. We only chose this equation for its simplicity. More accurate and better methods are the FAO56/Penman-Monteith approach although it depends on wind speed, an unreliable quantity in our reanalysis dataset.\n",
    "\n",
    "A very simple but also effective model for the effect of drought (not considering soil moisture!) is to just define a linear scaling point that relates the precipitation/ET ratio (e.g. available water vs water requirements for unstressed photosynthesis):\n",
    "\n",
    "$$\n",
    "f(P)=\\begin{cases}\n",
    "\\frac{P}{ET_{0}}\\, \\textrm{if } 0\\le P \\le ET_{0}\\\\\n",
    "1,\\, P>ET_{0}\\\\\n",
    "\\end{cases}\n",
    "$$\n"
   ]
  },
  {
   "cell_type": "code",
   "execution_count": 3,
   "metadata": {},
   "outputs": [],
   "source": [
    "def water_limitation(precip, et):\n",
    "    return np.where(precip >= et, 1, precip/et)\n"
   ]
  },
  {
   "cell_type": "markdown",
   "metadata": {},
   "source": [
    "### Discussion\n",
    "\n",
    "The code below allows you to plot the stressor functions for different years and different regions. Try to explain the patterns you get. To simplify visualisation, the plots also show a running mean of the stressors."
   ]
  },
  {
   "cell_type": "code",
   "execution_count": 4,
   "metadata": {},
   "outputs": [
    {
     "data": {
      "application/vnd.jupyter.widget-view+json": {
       "model_id": "a90fff105c8c4f6fa3b617d4bc90d70e",
       "version_major": 2,
       "version_minor": 0
      },
      "text/plain": [
       "interactive(children=(Dropdown(description='Region:', index=6, options=('Ashanti', 'Brong_Ahafo', 'Central', '…"
      ]
     },
     "metadata": {},
     "output_type": "display_data"
    }
   ],
   "source": [
    "import ipywidgets as widgets\n",
    "\n",
    "regions = [\"Ashanti\",  \"Brong_Ahafo\",  \"Central\",  \n",
    "           \"Eastern\",  \"Greater_Accra\",  \"Northern\",\n",
    "           \"Upper_East\",  \"Upper_West\",  \"Volta\",\n",
    "           \"Western\"]\n",
    "@widgets.interact(region_name=widgets.Dropdown(\n",
    "                        options=regions, value='Upper_East', description='Region:',\n",
    "                        disabled=False,), \n",
    "                year=widgets.IntSlider(min=2010, max=2018, value=(2015)))\n",
    "def plot_stressors(region_name, year):\n",
    "    meteo_file = sorted([f for f in Path(f'./data/meteo/{region_name}/').glob(f\"{region_name}.{year}\")])[0]\n",
    "    df = pd.read_csv(meteo_file, skiprows=20, sep=\"\\t\", \n",
    "                 names=[\"station\", \"year\", \"doy\", \"irradiance\", \"tmin\", \"tmax\", \"vpd\", \"mws\", \"prec\"])\n",
    "    df.set_index(df['doy'])\n",
    "    et0 = calc_et0(df.irradiance.values, df.tmin.values, df.tmax.values)\n",
    "    f_water = water_limitation(df.prec.values, et0)\n",
    "    f_temp = temp_constraint(df.tmax.values)\n",
    "    plt.figure(figsize=(15, 5))\n",
    "    plt.plot(df.doy, f_water, 'o', lw=0.5, mfc=\"none\", label=\"Water stress\")\n",
    "    plt.plot(df.doy, f_temp, 's', lw=0.5, mfc=\"none\", label=\"Heat stress\")\n",
    "    plt.plot(df.doy, np.convolve(f_water, np.ones(10)/10., mode=\"same\"), '-', lw=3, label=\"Smoothed Water Stress\")\n",
    "    plt.plot(df.doy, np.convolve(f_temp, np.ones(10)/10., mode=\"same\"), '-', lw=3, label=\"Smoothed Heat Stress\")\n",
    "    plt.legend(loc=\"best\")"
   ]
  },
  {
   "cell_type": "code",
   "execution_count": 5,
   "metadata": {},
   "outputs": [
    {
     "data": {
      "application/vnd.jupyter.widget-view+json": {
       "model_id": "b44de1c3e8c74fa7a824a3cd1c45551b",
       "version_major": 2,
       "version_minor": 0
      },
      "text/plain": [
       "interactive(children=(IntSlider(value=2010, description='year', max=2018, min=2010), Dropdown(description='pro…"
      ]
     },
     "metadata": {},
     "output_type": "display_data"
    }
   ],
   "source": [
    "@widgets.interact(year=widgets.IntSlider(min=2010, max=2018),\n",
    "                 product=widgets.Dropdown(options=[\"LAI\", \"fAPAR\"]))\n",
    "def plot_lai_stress(year, product):\n",
    "    product = product.lower()\n",
    "    fig, axs = plt.subplots(nrows=2, ncols=1, sharex=True, squeeze=True,\n",
    "                            figsize=(15, 7))\n",
    "    axs = axs.flatten()\n",
    "    lai = np.loadtxt(f\"data/mcd15_{product}_2003_2018_-022611_106965.txt\")\n",
    "\n",
    "    df = pd.read_csv(f\"data/meteo/-022611_106965/-022611_106965.{year}\", skiprows=20, sep=\"\\t\", \n",
    "                     names=[\"station\", \"year\", \"doy\", \"irradiance\", \"tmin\", \"tmax\", \"vpd\", \"mws\", \"prec\"])\n",
    "    df.set_index(df['doy'])\n",
    "    et0 = calc_et0(df.irradiance.values, df.tmin.values, df.tmax.values)\n",
    "    f_water = water_limitation(df.prec.values, et0)\n",
    "    f_temp = temp_constraint(df.tmax.values)\n",
    "\n",
    "    axs[0].plot(df.doy, f_water, 'o', lw=0.5, mfc=\"none\", label=\"Water stress\")\n",
    "    axs[0].plot(df.doy, f_temp, 's', lw=0.5, mfc=\"none\", label=\"Heat stress\")\n",
    "    axs[0].plot(df.doy, np.convolve(f_water, np.ones(10)/10., mode=\"same\"), '-', lw=3, label=\"Smoothed Water Stress\")\n",
    "    axs[0].plot(df.doy, np.convolve(f_temp, np.ones(10)/10., mode=\"same\"), '-', lw=3, label=\"Smoothed Heat Stress\")\n",
    "    axs[0].legend(loc=\"best\")\n",
    "    axs[0].set_ylabel(\"Stress factor [-]\")\n",
    "    \n",
    "    \n",
    "    \n",
    "    if product == \"fapar\":\n",
    "        axs[1].plot(np.arange(1, 366, 8), lai[:, year-2003]/100, '-', lw=3)\n",
    "        axs[1].set_ylabel(\"fAPAR [-]\")\n",
    "    else:\n",
    "        axs[1].plot(np.arange(1, 366, 8), lai[:, year-2003]/10, '-', lw=3)\n",
    "        axs[1].set_ylabel(\"LAI [m2/m2]\")\n",
    "    axs[1].set_xlabel(f\"Day of year/{year} [d]\")"
   ]
  },
  {
   "cell_type": "code",
   "execution_count": 71,
   "metadata": {},
   "outputs": [
    {
     "data": {
      "application/vnd.jupyter.widget-view+json": {
       "model_id": "2a6add6570534ca48715e4268dbd1fbd",
       "version_major": 2,
       "version_minor": 0
      },
      "text/plain": [
       "interactive(children=(FloatLogSlider(value=1.0, description='smoother', max=5.0, min=-4.0), Output()), _dom_cl…"
      ]
     },
     "metadata": {},
     "output_type": "display_data"
    }
   ],
   "source": [
    "from scipy.interpolate import UnivariateSpline\n",
    "@widgets.interact(smoother=widgets.FloatLogSlider(min=-4, max=5))\n",
    "def func(smoother):\n",
    "    y = np.loadtxt(f\"data/mcd15_fapar_2003_2018_-022611_106965.txt\")[:, -3]\n",
    "    x = np.arange(1, 366, 8)\n",
    "    xs = np.arange(1, 366)\n",
    "    spl = UnivariateSpline(x, y)\n",
    "    spl.set_smoothing_factor(smoother)\n",
    "    plt.plot(xs, spl(xs), 'b', lw=3)\n"
   ]
  },
  {
   "cell_type": "code",
   "execution_count": 68,
   "metadata": {},
   "outputs": [
    {
     "data": {
      "text/plain": [
       "<matplotlib.patches.Polygon at 0x7fea749a12e8>"
      ]
     },
     "execution_count": 68,
     "metadata": {},
     "output_type": "execute_result"
    },
    {
     "data": {
      "image/png": "[encoded data removed]",
      "text/plain": [
       "<Figure size 1080x288 with 1 Axes>"
      ]
     },
     "metadata": {
      "needs_background": "light"
     },
     "output_type": "display_data"
    }
   ],
   "source": [
    "from scipy.interpolate import UnivariateSpline\n",
    "import matplotlib.dates as mdates\n",
    "def meteo_calculations(year):\n",
    "    df = pd.read_csv(f\"data/meteo/-022611_106965/-022611_106965.{year}\", skiprows=20, sep=\"\\t\", \n",
    "                     names=[\"station\", \"year\", \"doy\", \"irradiance\", \"tmin\", \"tmax\", \"vpd\", \"mws\", \"prec\"])\n",
    "    df.set_index(df['doy'])\n",
    "    et0 = calc_et0(df.irradiance.values, df.tmin.values, df.tmax.values)\n",
    "    f_water = water_limitation(df.prec.values, et0)\n",
    "    f_temp = temp_constraint(df.tmax.values)\n",
    "    return f_water, f_temp\n",
    "\n",
    "def extract_smooth_fapar(product=\"fapar\", year=2018, smoother=100):\n",
    "    golden_ratio = 0.61803398875\n",
    "    mask57 = 0b11100000  # Select bits 5, 6 and 7\n",
    "    product = product.lower()\n",
    "    year = year-2003\n",
    "    x = np.arange(1, 366, 8)\n",
    "    xs = np.arange(1, 366)\n",
    "    y = np.loadtxt(f\"data/mcd15_{product}_2003_2018_-022611_106965.txt\")[:, year]\n",
    "    qa = np.loadtxt(\"data/mcd15_qa_2003_2018_-022611_106965.txt\", dtype=np.uint8)[:, year]\n",
    "    unc = np.power(golden_ratio, np.right_shift(np.bitwise_and(qa, mask57), 5).astype(np.float32))\n",
    "    spl = UnivariateSpline(x, y, w=(1./unc)**2)\n",
    "    spl.set_smoothing_factor(smoother)\n",
    "    return spl(xs)\n",
    "    #plt.plot(x, y)\n",
    "    #plt.plot(xs, spl(xs), 'b', lw=3)\n",
    "\n",
    "year = 2015\n",
    "\n",
    "fapar = extract_smooth_fapar(year=year)\n",
    "f_water, f_temp = meteo_calculations(year=year)\n",
    "gpp = fapar*f_water*f_temp\n",
    "plt.figure(figsize=(15, 4))\n",
    "t_axs = pd.date_range(start=f'1/1/{year}', end=f'12/31/{year}')\n",
    "plt.plot(t_axs, gpp)\n",
    "#plt.axhspan(dt.datetime(year, 7, 20), dt.datetime(year, 11, 1))\n",
    "plt.axvspan(*mdates.datestr2num([f'7/1/{year}', f'9/1/{year}']), color='0.9', alpha=0.5)\n",
    "    "
   ]
  },
  {
   "cell_type": "code",
   "execution_count": 70,
   "metadata": {},
   "outputs": [
    {
     "data": {
      "text/plain": [
       "[<matplotlib.lines.Line2D at 0x7fea74b77eb8>]"
      ]
     },
     "execution_count": 70,
     "metadata": {},
     "output_type": "execute_result"
    },
    {
     "data": {
      "image/png": "[encoded data removed]",
      "text/plain": [
       "<Figure size 432x288 with 1 Axes>"
      ]
     },
     "metadata": {
      "needs_background": "light"
     },
     "output_type": "display_data"
    }
   ],
   "source": [
    "plt.plot(t_axs, fapar)"
   ]
  },
  {
   "cell_type": "code",
   "execution_count": null,
   "metadata": {},
   "outputs": [],
   "source": []
  }
 ],
 "metadata": {
  "kernelspec": {
   "display_name": "Python 3",
   "language": "python",
   "name": "python3"
  },
  "language_info": {
   "codemirror_mode": {
    "name": "ipython",
    "version": 3
   },
   "file_extension": ".py",
   "mimetype": "text/x-python",
   "name": "python",
   "nbconvert_exporter": "python",
   "pygments_lexer": "ipython3",
   "version": "3.6.7"
  },
  "toc": {
   "base_numbering": 1,
   "nav_menu": {},
   "number_sections": true,
   "sideBar": true,
   "skip_h1_title": true,
   "title_cell": "Table of Contents",
   "title_sidebar": "Contents",
   "toc_cell": true,
   "toc_position": {},
   "toc_section_display": true,
   "toc_window_display": false
  },
  "varInspector": {
   "cols": {
    "lenName": 16,
    "lenType": 16,
    "lenVar": 40
   },
   "kernels_config": {
    "python": {
     "delete_cmd_postfix": "",
     "delete_cmd_prefix": "del ",
     "library": "var_list.py",
     "varRefreshCmd": "print(var_dic_list())"
    },
    "r": {
     "delete_cmd_postfix": ") ",
     "delete_cmd_prefix": "rm(",
     "library": "var_list.r",
     "varRefreshCmd": "cat(var_dic_list()) "
    }
   },
   "types_to_exclude": [
    "module",
    "function",
    "builtin_function_or_method",
    "instance",
    "_Feature"
   ],
   "window_display": false
  }
 },
 "nbformat": 4,
 "nbformat_minor": 4
}
