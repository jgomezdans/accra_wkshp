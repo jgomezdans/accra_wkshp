{
 "cells": [
  {
   "cell_type": "markdown",
   "metadata": {
    "toc": true
   },
   "source": [
    "<h1>Table of Contents<span class=\"tocSkip\"></span></h1>\n",
    "<div class=\"toc\"><ul class=\"toc-item\"><li><span><a href=\"#The-simplest-ageometeorological-crop-model\" data-toc-modified-id=\"The-simplest-ageometeorological-crop-model-1\"><span class=\"toc-item-num\">1&nbsp;&nbsp;</span>The simplest ageometeorological crop model</a></span><ul class=\"toc-item\"><li><span><a href=\"#Main-crop-modelling:-production-efficiency-model-(PEM)\" data-toc-modified-id=\"Main-crop-modelling:-production-efficiency-model-(PEM)-1.1\"><span class=\"toc-item-num\">1.1&nbsp;&nbsp;</span>Main crop modelling: production efficiency model (PEM)</a></span></li><li><span><a href=\"#Crop-limitations\" data-toc-modified-id=\"Crop-limitations-1.2\"><span class=\"toc-item-num\">1.2&nbsp;&nbsp;</span>Crop limitations</a></span><ul class=\"toc-item\"><li><span><a href=\"#Temperature-control\" data-toc-modified-id=\"Temperature-control-1.2.1\"><span class=\"toc-item-num\">1.2.1&nbsp;&nbsp;</span>Temperature control</a></span></li><li><span><a href=\"#Water-availability\" data-toc-modified-id=\"Water-availability-1.2.2\"><span class=\"toc-item-num\">1.2.2&nbsp;&nbsp;</span>Water availability</a></span></li></ul></li></ul></li><li><span><a href=\"#The-model\" data-toc-modified-id=\"The-model-2\"><span class=\"toc-item-num\">2&nbsp;&nbsp;</span>The model</a></span></li></ul></div>"
   ]
  },
  {
   "cell_type": "code",
   "execution_count": 2,
   "metadata": {},
   "outputs": [
    {
     "name": "stderr",
     "output_type": "stream",
     "text": [
      "/home/ucfajlg/.local/lib/python3.6/site-packages/tqdm/autonotebook/__init__.py:14: TqdmExperimentalWarning: Using `tqdm.autonotebook.tqdm` in notebook mode. Use `tqdm.tqdm` instead to force console mode (e.g. in jupyter console)\n",
      "  \" (e.g. in jupyter console)\", TqdmExperimentalWarning)\n"
     ]
    }
   ],
   "source": [
    "%load_ext autoreload\n",
    "%autoreload 2\n",
    "\n",
    "import numpy as np\n",
    "import datetime as dt\n",
    "import matplotlib.pyplot as plt\n",
    "import gdal\n",
    "import pandas as pd\n",
    "%matplotlib inline\n",
    "\n",
    "from modis_funcs import *"
   ]
  },
  {
   "cell_type": "markdown",
   "metadata": {},
   "source": [
    "## The simplest ageometeorological crop model\n",
    "\n",
    "### Main crop modelling: production efficiency model (PEM)\n",
    "\n",
    "We can think of the crop turning incoming radiation into carbon, which then gets allocated to different organs (including leave, grain, roots, etc.). The simple PEM model introduced by Monteith is basically that gross primary productivity (GPP) can be written as\n",
    "\n",
    "$$\n",
    "GPP(t) = fAPAR\\cdot PAR_{inc} \\cdot \\epsilon,\n",
    "$$\n",
    "\n",
    "where $fAPAR$ is the fraction of active photosynthetic radiation absorbed by the canopy (hence related to the amount and colour of leaves), $PAR_{inc}$ is the incoming radiation in the PAR region ($400-700 \\textrm{nm}$), and $\\epsilon$ is an energy conversion factor (e.g. how many grams of C per square meter do we produce for a given amount of absorbed radiation).\n",
    "\n",
    "This model is incredibly simple: we do not account for any stressors, pests, management, soils, ... But simplicity has its own advantages!\n",
    "\n",
    "\n",
    "### Crop limitations\n",
    "\n",
    "In warm climates, we have two main limitations to crop develoment: water availability and heat.\n",
    "\n"
   ]
  },
  {
   "cell_type": "markdown",
   "metadata": {},
   "source": [
    "\n",
    "#### Temperature control\n",
    "\n",
    "Photosynthesis is controlled by temperature, with typically a \"cold\" cutoff point, an optimal temperature, and a point where too much heat hampers photosynthetic activity:\n",
    "\n",
    "$$\n",
    "f(T)=\\begin{cases}\n",
    "0\\; T<T_{thresh,min}\\\\\n",
    "\\frac{T-T_{thresh,min}}{T_{thresh,opt} - T_{thresh,min}}\\; T_{thresh,min} \\le T \\le T_{thresh,opt}\\\\\n",
    "\\frac{T_{thresh,max} - T}{T_{thresh,max} - T_{thresh,opt}}\\;  T \\ge T_{thresh,opt}\\\\\n",
    "\\end{cases}\n",
    "$$\n"
   ]
  },
  {
   "cell_type": "code",
   "execution_count": 1,
   "metadata": {},
   "outputs": [
    {
     "ename": "NameError",
     "evalue": "name 'plt' is not defined",
     "output_type": "error",
     "traceback": [
      "\u001b[0;31m---------------------------------------------------------------------------\u001b[0m",
      "\u001b[0;31mNameError\u001b[0m                                 Traceback (most recent call last)",
      "\u001b[0;32m<ipython-input-1-b97451c5cf6c>\u001b[0m in \u001b[0;36m<module>\u001b[0;34m()\u001b[0m\n\u001b[1;32m      8\u001b[0m \u001b[0mtemp_axs\u001b[0m \u001b[0;34m=\u001b[0m \u001b[0mnp\u001b[0m\u001b[0;34m.\u001b[0m\u001b[0marange\u001b[0m\u001b[0;34m(\u001b[0m\u001b[0;36m10\u001b[0m\u001b[0;34m,\u001b[0m \u001b[0;36m50\u001b[0m\u001b[0;34m,\u001b[0m \u001b[0;36m2\u001b[0m\u001b[0;34m)\u001b[0m\u001b[0;34m\u001b[0m\u001b[0;34m\u001b[0m\u001b[0m\n\u001b[1;32m      9\u001b[0m \u001b[0mtt\u001b[0m \u001b[0;34m=\u001b[0m \u001b[0;34m[\u001b[0m\u001b[0mtemp_constraint\u001b[0m\u001b[0;34m(\u001b[0m\u001b[0mt\u001b[0m\u001b[0;34m)\u001b[0m \u001b[0;32mfor\u001b[0m \u001b[0mt\u001b[0m \u001b[0;32min\u001b[0m \u001b[0mtemp_axs\u001b[0m\u001b[0;34m]\u001b[0m\u001b[0;34m\u001b[0m\u001b[0;34m\u001b[0m\u001b[0m\n\u001b[0;32m---> 10\u001b[0;31m \u001b[0mplt\u001b[0m\u001b[0;34m.\u001b[0m\u001b[0mplot\u001b[0m\u001b[0;34m(\u001b[0m\u001b[0mtemp_axs\u001b[0m\u001b[0;34m,\u001b[0m \u001b[0mtt\u001b[0m\u001b[0;34m)\u001b[0m\u001b[0;34m\u001b[0m\u001b[0;34m\u001b[0m\u001b[0m\n\u001b[0m\u001b[1;32m     11\u001b[0m \u001b[0mplt\u001b[0m\u001b[0;34m.\u001b[0m\u001b[0mxlabel\u001b[0m\u001b[0;34m(\u001b[0m\u001b[0;34m\"Temperature [deg C]\"\u001b[0m\u001b[0;34m)\u001b[0m\u001b[0;34m\u001b[0m\u001b[0;34m\u001b[0m\u001b[0m\n\u001b[1;32m     12\u001b[0m \u001b[0mplt\u001b[0m\u001b[0;34m.\u001b[0m\u001b[0mylabel\u001b[0m\u001b[0;34m(\u001b[0m\u001b[0;34m\"C assim rate [-]\"\u001b[0m\u001b[0;34m)\u001b[0m\u001b[0;34m\u001b[0m\u001b[0;34m\u001b[0m\u001b[0m\n",
      "\u001b[0;31mNameError\u001b[0m: name 'plt' is not defined"
     ]
    }
   ],
   "source": [
    "def temp_constraint(temp, t_min=12, t_max=41, t_opt=28):\n",
    "    if temp < t_min:\n",
    "        return 0.\n",
    "    elif t_min <= temp <= t_opt:\n",
    "        return (temp-t_min)/(t_opt - t_min)\n",
    "    elif temp >= t_opt:\n",
    "        return max((t_max - temp)/(t_max-t_opt), 0)\n",
    "temp_axs = np.arange(10, 50, 2)\n",
    "tt = [temp_constraint(t) for t in temp_axs]\n",
    "plt.plot(temp_axs, tt)\n",
    "plt.xlabel(\"Temperature [deg C]\")\n",
    "plt.ylabel(\"C assim rate [-]\")"
   ]
  },
  {
   "cell_type": "markdown",
   "metadata": {},
   "source": [
    "#### Water availability\n",
    "If we consider that vegetation growth is only limited by water availability, a simple model would basically look at water balance: precipitation minus evapotranspiration. If this balance is positive (more rain than ET), we may initially conclude that in principle, crops will not be stressed by drought. One of the simplest ways to calculate ET is to use a version of Hargreaves equation:\n",
    "\n",
    "$$\n",
    "ET_{0} = \\frac{0.0023}{\\lambda}\\cdot \\left[T_{max} - T_{min} \\right]^{0.5}\\cdot R_{surf}\\left[T_{mean} - 17.8\\right]\n",
    "$$\n",
    "where the daily reference evapotranspiration $ET_0$ is given in $[mm\\cdot d^{1}]$, $T_{max,min,mean}$ are respectively the daily max, min and mean temperatures in degrees C, $R_{surf}$ is the surface radiance in $kJm^{-2}d^{-1}$ and $\\lambda$ is the latent heat of vaporisation. We only chose this equation for its simplicity. More accurate and better methods are the FAO56/Penman-Monteith approach although it depends on wind speed, an unreliable quantity in our reanalysis dataset.\n",
    "\n",
    "A very simple but also effective model for the effect of drought (not considering soil moisture!) is to just define a linear scaling point that relates the precipitation/ET ratio (e.g. available water vs water requirements for unstressed photosynthesis):\n",
    "\n",
    "$$\n",
    "f(P)=\\begin{cases}\n",
    "\\frac{P}{ET_{0}}\\, \\textrm{if } 0\\le P \\le ET_{0}\\\\\n",
    "1,\\, P>ET_{0}\\\\\n",
    "\\end{cases}\n",
    "$$\n"
   ]
  },
  {
   "cell_type": "code",
   "execution_count": 3,
   "metadata": {},
   "outputs": [],
   "source": [
    "def water_limitation(precip, et):\n",
    "    if precip >= et:\n",
    "        return 1.\n",
    "    else:\n",
    "        return precip/et"
   ]
  },
  {
   "cell_type": "markdown",
   "metadata": {},
   "source": [
    "\n",
    "\n",
    "## The model\n",
    "\n",
    "We have seen that we can get some data on "
   ]
  },
  {
   "cell_type": "code",
   "execution_count": null,
   "metadata": {},
   "outputs": [],
   "source": []
  }
 ],
 "metadata": {
  "kernelspec": {
   "display_name": "Python 3",
   "language": "python",
   "name": "python3"
  },
  "language_info": {
   "codemirror_mode": {
    "name": "ipython",
    "version": 3
   },
   "file_extension": ".py",
   "mimetype": "text/x-python",
   "name": "python",
   "nbconvert_exporter": "python",
   "pygments_lexer": "ipython3",
   "version": "3.6.7"
  },
  "toc": {
   "base_numbering": 1,
   "nav_menu": {},
   "number_sections": true,
   "sideBar": true,
   "skip_h1_title": true,
   "title_cell": "Table of Contents",
   "title_sidebar": "Contents",
   "toc_cell": true,
   "toc_position": {},
   "toc_section_display": true,
   "toc_window_display": false
  },
  "varInspector": {
   "cols": {
    "lenName": 16,
    "lenType": 16,
    "lenVar": 40
   },
   "kernels_config": {
    "python": {
     "delete_cmd_postfix": "",
     "delete_cmd_prefix": "del ",
     "library": "var_list.py",
     "varRefreshCmd": "print(var_dic_list())"
    },
    "r": {
     "delete_cmd_postfix": ") ",
     "delete_cmd_prefix": "rm(",
     "library": "var_list.r",
     "varRefreshCmd": "cat(var_dic_list()) "
    }
   },
   "types_to_exclude": [
    "module",
    "function",
    "builtin_function_or_method",
    "instance",
    "_Feature"
   ],
   "window_display": false
  }
 },
 "nbformat": 4,
 "nbformat_minor": 2
}
