{
 "cells": [
  {
   "cell_type": "markdown",
   "metadata": {
    "toc": true
   },
   "source": [
    "<h1>Table of Contents<span class=\"tocSkip\"></span></h1>\n",
    "<div class=\"toc\"><ul class=\"toc-item\"><li><span><a href=\"#Introduction\" data-toc-modified-id=\"Introduction-1\"><span class=\"toc-item-num\">1&nbsp;&nbsp;</span>Introduction</a></span></li><li><span><a href=\"#DA-to-the-rescue:-EnKF\" data-toc-modified-id=\"DA-to-the-rescue:-EnKF-2\"><span class=\"toc-item-num\">2&nbsp;&nbsp;</span>DA to the rescue: EnKF</a></span></li><li><span><a href=\"#EnKF-for-WOFOST\" data-toc-modified-id=\"EnKF-for-WOFOST-3\"><span class=\"toc-item-num\">3&nbsp;&nbsp;</span>EnKF for WOFOST</a></span></li></ul></div>"
   ]
  },
  {
   "cell_type": "code",
   "execution_count": 17,
   "metadata": {},
   "outputs": [],
   "source": [
    "%matplotlib inline\n",
    "%load_ext autoreload\n",
    "%autoreload 2\n",
    "\n",
    "import sys, os\n",
    "import copy\n",
    "import datetime as dt\n",
    "import pcse\n",
    "from pcse.models import Wofost71_WLP_FD\n",
    "import pandas as pd\n",
    "import numpy as np\n",
    "import matplotlib\n",
    "import matplotlib.pyplot as plt"
   ]
  },
  {
   "cell_type": "markdown",
   "metadata": {},
   "source": [
    "<div style=\"float:right\">\n",
    "<table>\n",
    "<tr>\n",
    "    <td> <img src=\"figs/nceo_logo.png\" alt=\"Drawing\" style=\"width:200px;height:40px;\"/> </td>\n",
    "    <td> <img src=\"figs/gssti_logo.png\" alt=\"Drawing\" style=\"width:200px;height:40px;\"/> </td>\n",
    "    <td> <img src=\"figs/multiply_logo.png\" alt=\"Drawing\" style=\"width:40px;height:40px;\"/> </td>\n",
    "</tr>\n",
    "    </table>\n",
    "</div>\n",
    "\n",
    "# Data assimilation with the WOFOST model: EnKF filter\n",
    "\n",
    "**Author:** Jose Gómez-Dans (NCEO & UCL)  `j.gomez-dans@ucl.ac.uk`"
   ]
  },
  {
   "cell_type": "markdown",
   "metadata": {},
   "source": [
    "## Introduction\n",
    "\n",
    "So far, we've had a look at EO data of croplands, and we had a brief play with crop models. Although these topics are major research areas on their own right, it is possible to do a first sum up of what we've seen.\n",
    "\n",
    "**EO data**\n",
    "- Retrieving agronomically meaningful parameters from e.g. reflectance or radiance data is a complex task. A lot of assumptions go into this task. \n",
    "- Perhaps the most interesting parameter is LAI (and is closely related cousing, fAPAR). One reason for its popularity is that LAI is also a parameter used and/or predicted by mechanistic growth models and a major indicator of crop development\n",
    "- Optical EO data is hampered by clouds, which can result in not much data being available (e.g. large data gaps in agronomically meaningful periods). Other properties of the sensor that affect the retrievals are its spatial resolution, its spectral properties\n",
    "- There are other observables from space. These include thermal data (e.g. land surface temperature), passive microwaves (often used for soil moisture). SAR is also used for understanding both vegetation and soil properties. New measurements, such as SIF (solar induced fluorescence) are also becoming practical.\n",
    "- A number of *products* that translate the \"raw\" EO signal into useful parameters have been developed. It makes sense to use them!\n",
    "- ...but always remember to evaluate them to see how they perform. Also be aware that they make make assumptions that are incompatible with other bits of your processing!\n",
    "- EO data only gives a partial window into crops: we infer LAI, maybe soil moisture, but we are interested in biomass or grain yield!\n",
    "\n",
    "**Crop models**\n",
    "- There are many crop models available. We can go from statistical models (that e.g. link anomalies in temperature, precipitation and a vegetation index and yield), to production efficiency models to more complex mechanistic models.\n",
    "- PEM are fun to play around with, but are critically dependent on calibration and having sufficient EO data.\n",
    "- Mechanistic models tend to be preferred, as they encompass a lot of our understanding of crop physiology, soil hydraulics. When we refer to crop models, we'll refer to this type of crop models.\n",
    "- Generally speaking, a crop model takes meteorology, soil and crop type/cultivar parameterisations and calculates the evolution of a crop.\n",
    "- All this requires defining many processes, their interfaces and the parameters that govern such processes and how they are affected by meteorology, soil properties, management decisions, etc.\n",
    "- Calibration of models to local conditions is critical\n",
    "- However, the vast variation of farming practices, local microclimate and soil properties, as well as the many shortcomings of models themselves, of driver data and soil maps, often result in a model is that \"approximately OK\" for some area, but completely wrong for any individual field!\n",
    "\n",
    "DA aims to merge these two independent views of the world, acknowledging the limitations of each. So if we have frequent observations of LAI over a field, how can we inform our crop model of that evidence, in a way that acknowledges the fact that LAI measurements may be uncertain, and that the model is also a bit ropey?\n",
    "\n",
    "## DA to the rescue: EnKF\n",
    "\n",
    "You've already encountered the EnKF. To introduce a common mathematical notation, let $y$ be our observations of e.g. LAI and/or soil moisture. Let our state vector be the stacking of state parameters of the crop model (e.g. LAI, SM, TAGP, DVS, ...). We will assume that our observations are corrupted by zero mean Gaussian noise with some uncertainty, and that we can encode the uncertainty in our state by using a multivariate Gaussian. If we call our state mean vector at a given timestep $\\mu$ and its associated covariance matrix $\\mathbf{P}$, then we can draw a number of realisations of the state using a random number generator. Each of these can be propagated by the crop model (run possibly sampling different soil properties, or sampling maybe uncertainties in meteorological drivers or crop parameters), to provide a population of states after some time. We can then *assimilate* the LAI observations to refine our guess of the state at that point, and go back to running the crop model.\n",
    "\n",
    "![From robertsy](http://robertsy.github.io/ensemble-da/assets/img/EnKF.png)\n"
   ]
  },
  {
   "cell_type": "markdown",
   "metadata": {},
   "source": [
    "## EnKF for WOFOST\n",
    "\n",
    "In this example, we will make some bold assumptions. We will assimilate LAI and/or SM observations into our crop model. As usual, I'll use maize and Ghana as options. The observations are synthetic (I created them using the model with a given parameterisation and corrupted them with Gaussian noise)."
   ]
  },
  {
   "cell_type": "code",
   "execution_count": 4,
   "metadata": {},
   "outputs": [
    {
     "data": {
      "image/png": "[encoded data removed]",
      "text/plain": [
       "<Figure size 864x720 with 8 Axes>"
      ]
     },
     "metadata": {
      "needs_background": "light"
     },
     "output_type": "display_data"
    }
   ],
   "source": [
    "np.random.seed(42)\n",
    "n_ensemble = 50\n",
    "# A container for the parameters that we will override\n",
    "override_parameters = {}\n",
    "#Initial conditions\n",
    "override_parameters[\"TDWI\"] = np.random.normal(150., 50., (n_ensemble))\n",
    "override_parameters[\"WAV\"] = np.random.normal(10, 5, (n_ensemble))\n",
    "# parameters\n",
    "override_parameters[\"SPAN\"] = np.random.normal(42, 5 ,(n_ensemble))\n",
    "override_parameters[\"TSUM1\"] = np.random.normal(900, 50 ,(n_ensemble))\n",
    "override_parameters[\"TSUM2\"] = np.random.normal(950, 50 ,(n_ensemble))\n",
    "override_parameters[\"CVL\"] = np.random.normal(0.72, 0.2 ,(n_ensemble))\n",
    "override_parameters[\"CVO\"] = np.random.normal(0.71, 0.1 ,(n_ensemble))\n",
    "override_parameters[\"CVR\"] = np.random.normal(0.68, 0.1 ,(n_ensemble))\n",
    "\n",
    "\n",
    "\n",
    "\n",
    "fig, axes = plt.subplots(nrows=4, ncols=2, figsize=(12,10))\n",
    "# Show the sample that was drawn\n",
    "for ax, (par, distr) in zip(axes.flatten(), override_parameters.items()):\n",
    "    ax.hist(distr)\n",
    "    ax.set_title(par)"
   ]
  },
  {
   "cell_type": "code",
   "execution_count": 16,
   "metadata": {},
   "outputs": [
    {
     "name": "stderr",
     "output_type": "stream",
     "text": [
      "/home/ucfajlg/.local/lib/python3.6/site-packages/pcse/fileinput/yaml_agro_loader.py:21: YAMLLoadWarning: calling yaml.load() without Loader=... is deprecated, as the default Loader is unsafe. Please read https://msg.pyyaml.org/load for full details.\n",
      "  r = yaml.load(fp)\n"
     ]
    }
   ],
   "source": [
    "from wofost_da import *\n",
    "\n",
    "parameters, agromanagement, weather = set_wofost_up()\n",
    "Wofost71_WLP_FD(p, weather, agromanagement)\n",
    "ensemble = []\n",
    "for i in range(n_ensemble):\n",
    "    p = copy.deepcopy(parameters)\n",
    "    for par, distr in override_parameters.items():\n",
    "        p.set_override(par, distr[i])\n",
    "    member = Wofost71_WLP_FD(p, weather, agromanagement)\n",
    "    ensemble.append(member)"
   ]
  },
  {
   "cell_type": "code",
   "execution_count": 65,
   "metadata": {},
   "outputs": [
    {
     "data": {
      "text/plain": [
       "[(datetime.datetime(2011, 7, 1, 0, 0),\n",
       "  {'LAI': (0.02604, 0.0026040000000000004),\n",
       "   'SM': (0.02017881934302664, 0.00504470483575666)}),\n",
       " (datetime.datetime(2011, 7, 8, 0, 0),\n",
       "  {'LAI': (0.02376600492, 0.002376600492),\n",
       "   'SM': (0.11558331986575372, 0.02889582996643843)}),\n",
       " (datetime.datetime(2011, 7, 9, 0, 0),\n",
       "  {'LAI': (0.0230530247724, 0.00230530247724),\n",
       "   'SM': (0.13977913761953162, 0.034944784404882905)}),\n",
       " (datetime.datetime(2011, 7, 10, 0, 0),\n",
       "  {'LAI': (0.022361434029228, 0.0022361434029228),\n",
       "   'SM': (0.1984031637419847, 0.04960079093549617)}),\n",
       " (datetime.datetime(2011, 7, 19, 0, 0),\n",
       "  {'LAI': (0.0701972306249696, 0.007019723062496961),\n",
       "   'SM': (0.3719712726696465, 0.09299281816741163)})]"
      ]
     },
     "execution_count": 65,
     "metadata": {},
     "output_type": "execute_result"
    }
   ],
   "source": [
    "\n",
    "def prepare_observations(obs_file=\"data/sample_wofost_output\",\n",
    "                        n_obs=5, sigma_lai=0.1, sigma_sm=0.25):\n",
    "\n",
    "    df = pd.read_csv(\"data/sample_wofost_output.csv\")\n",
    "    lai_obs = df.LAI\n",
    "    sm_obs = df.SM\n",
    "    obs_times = np.array([dt.datetime.strptime(f\"2011/{i+1}\", \"%Y/%j\" ) for i in df.index])\n",
    "    obs_passer = np.arange(len(obs_times))\n",
    "    np.random.shuffle(obs_passer)\n",
    "    obs_passer = sorted(obs_passer[:100])\n",
    "    observations = []\n",
    "    # Pack them into a convenient format\n",
    "    for datex, lai, sm in zip(obs_times[obs_passer], lai_obs[obs_passer],\n",
    "                                       sm_obs[obs_passer]):\n",
    "        if ~np.isnan(lai) and ~np.isnan(sm):\n",
    "            lai_unc = lai*sigma_lai\n",
    "            sm_unc = sm*sigma_sm\n",
    "            observations.append((datex, {\"LAI\":(lai, lai_unc), \"SM\":(sm, sm_unc)}))\n",
    "    return observations[:n_obs]\n",
    "prepare_observations()"
   ]
  },
  {
   "cell_type": "code",
   "execution_count": 66,
   "metadata": {},
   "outputs": [
    {
     "data": {
      "text/plain": [
       "(datetime.datetime(2011, 7, 20, 0, 0),\n",
       " {'LAI': (0.09050995300422784, 0.009050995300422785),\n",
       "  'SM': (0.35834594701305017, 0.07166918940261004)})"
      ]
     },
     "execution_count": 66,
     "metadata": {},
     "output_type": "execute_result"
    }
   ],
   "source": [
    "observations[0]"
   ]
  },
  {
   "cell_type": "code",
   "execution_count": 54,
   "metadata": {},
   "outputs": [
    {
     "name": "stdout",
     "output_type": "stream",
     "text": [
      "date argument for run_till() function before current model date.\n",
      "date argument for run_till() function before current model date.\n",
      "date argument for run_till() function before current model date.\n",
      "date argument for run_till() function before current model date.\n",
      "date argument for run_till() function before current model date.\n",
      "date argument for run_till() function before current model date.\n",
      "date argument for run_till() function before current model date.\n",
      "date argument for run_till() function before current model date.\n",
      "date argument for run_till() function before current model date.\n",
      "date argument for run_till() function before current model date.\n",
      "date argument for run_till() function before current model date.\n",
      "date argument for run_till() function before current model date.\n",
      "date argument for run_till() function before current model date.\n",
      "date argument for run_till() function before current model date.\n",
      "date argument for run_till() function before current model date.\n",
      "date argument for run_till() function before current model date.\n",
      "date argument for run_till() function before current model date.\n",
      "date argument for run_till() function before current model date.\n",
      "date argument for run_till() function before current model date.\n",
      "date argument for run_till() function before current model date.\n",
      "date argument for run_till() function before current model date.\n",
      "date argument for run_till() function before current model date.\n",
      "date argument for run_till() function before current model date.\n",
      "date argument for run_till() function before current model date.\n",
      "date argument for run_till() function before current model date.\n",
      "date argument for run_till() function before current model date.\n",
      "date argument for run_till() function before current model date.\n",
      "date argument for run_till() function before current model date.\n",
      "date argument for run_till() function before current model date.\n",
      "date argument for run_till() function before current model date.\n",
      "date argument for run_till() function before current model date.\n",
      "date argument for run_till() function before current model date.\n",
      "date argument for run_till() function before current model date.\n",
      "date argument for run_till() function before current model date.\n",
      "date argument for run_till() function before current model date.\n",
      "date argument for run_till() function before current model date.\n",
      "date argument for run_till() function before current model date.\n",
      "date argument for run_till() function before current model date.\n",
      "date argument for run_till() function before current model date.\n",
      "date argument for run_till() function before current model date.\n",
      "date argument for run_till() function before current model date.\n",
      "date argument for run_till() function before current model date.\n",
      "date argument for run_till() function before current model date.\n",
      "date argument for run_till() function before current model date.\n",
      "date argument for run_till() function before current model date.\n",
      "date argument for run_till() function before current model date.\n",
      "date argument for run_till() function before current model date.\n",
      "date argument for run_till() function before current model date.\n",
      "date argument for run_till() function before current model date.\n",
      "date argument for run_till() function before current model date.\n"
     ]
    },
    {
     "data": {
      "text/plain": [
       "array([[0.0524784]])"
      ]
     },
     "execution_count": 54,
     "metadata": {},
     "output_type": "execute_result"
    }
   ],
   "source": [
    "[member.run_till(day) for member in ensemble]\n",
    "collected_states = []\n",
    "for member in ensemble:\n",
    "    t = {}\n",
    "    for state in assimilate_variables:\n",
    "        t[state] = member.get_variable(state)\n",
    "    collected_states.append(t)\n",
    "df_A = pd.DataFrame(collected_states)\n",
    "\n",
    "P_e = df_A.cov().values\n",
    "P_e"
   ]
  },
  {
   "cell_type": "code",
   "execution_count": 77,
   "metadata": {},
   "outputs": [
    {
     "name": "stderr",
     "output_type": "stream",
     "text": [
      "/home/ucfajlg/.local/lib/python3.6/site-packages/pcse/fileinput/yaml_agro_loader.py:21: YAMLLoadWarning: calling yaml.load() without Loader=... is deprecated, as the default Loader is unsafe. Please read https://msg.pyyaml.org/load for full details.\n",
      "  r = yaml.load(fp)\n"
     ]
    }
   ],
   "source": [
    "\n",
    "\n",
    "def set_up_wofost(meteo=\"Upper_East\", crop=\"maize\",\n",
    "                  variety=\"Maize_VanHeemst_1988\", soil=\"ec4.new\",\n",
    "                  wav=100, co2=400, rdmsol=100.):\n",
    "    cropdata = YAMLCropDataProvider(fpath=\"./WOFOST_crop_parameters\")\n",
    "    cropdata.set_active_crop(crop, variety)\n",
    "    soildata = CABOFileReader(soil)\n",
    "    soildata['RDMSOL'] = rdmsol\n",
    "    sitedata = WOFOST71SiteDataProvider(WAV=wav, CO2=co2)\n",
    "    parameters = ParameterProvider(cropdata=cropdata, soildata=soildata, sitedata=sitedata)\n",
    "    agromanagement = YAMLAgroManagementReader(\"ghana_maize.amgt\")\n",
    "\n",
    "    wdp = CABOWeatherDataProvider(meteo, fpath=f\"./data/meteo/{meteo}/\")\n",
    "    return parameters, agromanagement, wdp\n",
    "    \n",
    "\n",
    "def run_wofost(parameters, agromanagement, wdp, potential=False):\n",
    "    if potential:\n",
    "        wofsim = Wofost71_PP(parameters, wdp, agromanagement)\n",
    "    else:\n",
    "        \n",
    "        wofsim = Wofost71_WLP_FD(parameters, wdp, agromanagement)\n",
    "    wofsim.run_till_terminate()\n",
    "    df_results = pd.DataFrame(wofsim.get_output())\n",
    "    df_results = df_results.set_index(\"day\")\n",
    "    return df_results, wofsim\n",
    "\n",
    "\n",
    "p, a, w = set_up_wofost()\n",
    "results, wofsim = run_wofost(p, a, w)\n",
    "results.to_csv(\"data/sample_wofost_output.csv\", date_format=\"%Y-%m-%d\", encoding=\"utf-8\")"
   ]
  },
  {
   "cell_type": "code",
   "execution_count": 76,
   "metadata": {},
   "outputs": [
    {
     "data": {
      "text/plain": [
       "[<matplotlib.lines.Line2D at 0x7fc196666c88>]"
      ]
     },
     "execution_count": 76,
     "metadata": {},
     "output_type": "execute_result"
    },
    {
     "data": {
      "image/png": "[encoded data removed]",
      "text/plain": [
       "<Figure size 432x288 with 1 Axes>"
      ]
     },
     "metadata": {
      "needs_background": "light"
     },
     "output_type": "display_data"
    }
   ],
   "source": [
    "plt.plot(results.LAI)"
   ]
  },
  {
   "cell_type": "code",
   "execution_count": 73,
   "metadata": {},
   "outputs": [
    {
     "name": "stdout",
     "output_type": "stream",
     "text": [
      "day,DVS,LAI,TAGP,TWSO,TWLV,TWST,TWRT,TRA,RD,SM,WWLOW\r\n",
      "2011-01-01,,,,,,,,,,0.4,55.3\r\n",
      "2011-01-02,,,,,,,,,,0.37556045502979785,54.68560455029798\r\n",
      "2011-01-03,,,,,,,,,,0.35527750808736464,54.11277508087365\r\n",
      "2011-01-04,,,,,,,,,,0.3376844775995089,53.566844775995094\r\n",
      "2011-01-05,,,,,,,,,,0.32175585366641724,53.03755853666418\r\n",
      "2011-01-06,,,,,,,,,,0.30733550563028833,52.52335505630289\r\n",
      "2011-01-07,,,,,,,,,,0.29473652731722483,52.02736527317226\r\n",
      "2011-01-08,,,,,,,,,,0.28202554870440316,51.530255487044045\r\n",
      "2011-01-09,,,,,,,,,,0.26924664563210443,51.03246645632106\r\n"
     ]
    }
   ],
   "source": [
    "!head -n 10 /tmp/stuff.csv\n"
   ]
  },
  {
   "cell_type": "code",
   "execution_count": null,
   "metadata": {},
   "outputs": [],
   "source": []
  }
 ],
 "metadata": {
  "kernelspec": {
   "display_name": "Python 3",
   "language": "python",
   "name": "python3"
  },
  "language_info": {
   "codemirror_mode": {
    "name": "ipython",
    "version": 3
   },
   "file_extension": ".py",
   "mimetype": "text/x-python",
   "name": "python",
   "nbconvert_exporter": "python",
   "pygments_lexer": "ipython3",
   "version": "3.6.7"
  },
  "toc": {
   "base_numbering": 1,
   "nav_menu": {},
   "number_sections": true,
   "sideBar": true,
   "skip_h1_title": true,
   "title_cell": "Table of Contents",
   "title_sidebar": "Contents",
   "toc_cell": true,
   "toc_position": {},
   "toc_section_display": true,
   "toc_window_display": false
  },
  "varInspector": {
   "cols": {
    "lenName": 16,
    "lenType": 16,
    "lenVar": 40
   },
   "kernels_config": {
    "python": {
     "delete_cmd_postfix": "",
     "delete_cmd_prefix": "del ",
     "library": "var_list.py",
     "varRefreshCmd": "print(var_dic_list())"
    },
    "r": {
     "delete_cmd_postfix": ") ",
     "delete_cmd_prefix": "rm(",
     "library": "var_list.r",
     "varRefreshCmd": "cat(var_dic_list()) "
    }
   },
   "types_to_exclude": [
    "module",
    "function",
    "builtin_function_or_method",
    "instance",
    "_Feature"
   ],
   "window_display": false
  }
 },
 "nbformat": 4,
 "nbformat_minor": 2
}
