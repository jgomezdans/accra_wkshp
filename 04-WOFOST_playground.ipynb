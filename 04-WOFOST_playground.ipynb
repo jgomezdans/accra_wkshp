{
 "cells": [
  {
   "cell_type": "markdown",
   "metadata": {
    "toc": true
   },
   "source": [
    "<h1>Table of Contents<span class=\"tocSkip\"></span></h1>\n",
    "<div class=\"toc\"><ul class=\"toc-item\"><li><span><a href=\"#Introduction\" data-toc-modified-id=\"Introduction-1\"><span class=\"toc-item-num\">1&nbsp;&nbsp;</span>Introduction</a></span></li><li><span><a href=\"#A-simulation-with-WOFOST\" data-toc-modified-id=\"A-simulation-with-WOFOST-2\"><span class=\"toc-item-num\">2&nbsp;&nbsp;</span>A simulation with WOFOST</a></span><ul class=\"toc-item\"><li><span><a href=\"#Your-first-WOFOST-run\" data-toc-modified-id=\"Your-first-WOFOST-run-2.1\"><span class=\"toc-item-num\">2.1&nbsp;&nbsp;</span>Your first WOFOST run</a></span></li></ul></li></ul></div>"
   ]
  },
  {
   "cell_type": "markdown",
   "metadata": {},
   "source": [
    "<div style=\"float:right\">\n",
    "<table>\n",
    "<tr>\n",
    "    <td> <img src=\"figs/nceo_logo.png\" alt=\"Drawing\" style=\"width:200px;height:40px;\"/> </td>\n",
    "    <td> <img src=\"figs/gssti_logo.png\" alt=\"Drawing\" style=\"width:200px;height:40px;\"/> </td>\n",
    "    <td> <img src=\"figs/multiply_logo.png\" alt=\"Drawing\" style=\"width:40px;height:40px;\"/> </td>\n",
    "</tr>\n",
    "    </table>\n",
    "</div>\n",
    "\n",
    "# The WOFOST crop model\n",
    "\n",
    "**Author:** Jose Gómez-Dans (NCEO & UCL)  `j.gomez-dans@ucl.ac.uk`"
   ]
  },
  {
   "cell_type": "code",
   "execution_count": 2,
   "metadata": {},
   "outputs": [
    {
     "name": "stdout",
     "output_type": "stream",
     "text": [
      "This notebook was built with:\n",
      "python version: 3.6.7 | packaged by conda-forge | (default, Jul  2 2019, 02:18:42) \n",
      "[GCC 7.3.0] \n",
      "PCSE version: 5.4.2\n"
     ]
    }
   ],
   "source": [
    "%matplotlib inline\n",
    "%load_ext autoreload\n",
    "%autoreload 2\n",
    "import sys, os\n",
    "import copy\n",
    "import datetime as dt\n",
    "import pcse\n",
    "from pcse.models import Wofost71_WLP_FD\n",
    "import pandas as pd\n",
    "import numpy as np\n",
    "import matplotlib\n",
    "import matplotlib.pyplot as plt\n",
    "print(\"This notebook was built with:\")\n",
    "print(\"python version: %s \" % sys.version)\n",
    "print(\"PCSE version: %s\" %  pcse.__version__)\n",
    "import datetime\n",
    "\n",
    "from pandas.plotting import register_matplotlib_converters\n",
    "register_matplotlib_converters()\n",
    "\n",
    "from wofost_utils import *"
   ]
  },
  {
   "cell_type": "markdown",
   "metadata": {},
   "source": [
    "## Introduction\n",
    "\n",
    "The WOFOST crop model has been around for a long time. It is widely used in both research and operational applications, and is fairly easy to use. It also has been used to simulate a large number of crops, and there are a number of extensions that deal with other crops.\n",
    "\n",
    "While WOFOST lacks some of the more complex processes that more sophisticated models provide, it's more than adequate to familiarise oneself with a crop model.\n",
    "\n",
    "The following diagram shows what WOFOST does\n",
    "\n",
    "![schematic of the WOFOST model](figs/wofost_schematic.png)\n",
    "\n",
    "Some of those boxes will already be familiar to you. We can see at the top that WOFOST is driven by radiation intercepted by the canopy. The canopy interception itself is not driven by a satellite fAPAR product as we saw earlier, but rather uses the predictions of LAI from the previous time step. Once photosynthesis is calculated and both growth and maintenance respiration are lost, partitioning of the assimilated C to the different plant organs takes place. These organs are:\n",
    "\n",
    "1. Leaves\n",
    "2. Stems\n",
    "3. Roots\n",
    "4. Storage organs (e.g. grain!)\n",
    "\n",
    "A number of processes deal with the age and eventual death of leaves, stems and roots.\n",
    "\n",
    "WOFOST implements a large number of processes to model a crop. Although not shown here, it does have a soil moisture module, and many of the processes are controlled by the development stage of the crop (its *phenology*). The phenology is simulated often by thermal time (there are other options, using e.g. daylength and stuff).\n",
    "\n",
    "WOFOST doesn't implement many processes that are to do with management, pests, complex soil chemistry, etc. However, some management and additional information is needed to run the model, such as selecting the crop and variety, providing meteo data, configuring things around... This is all done for you (lucky you!). Since our aim here is to build towards linking the model with EO data, we'll consider some parameters that are important to diagnose what's happening. These will include LAI, soil moisture, total storage organ weight, and the development stage. \n",
    "\n",
    "\n",
    "## A simulation with WOFOST\n",
    "\n",
    "There are two ways of using the model: potential and water limited. the former ignores the effect of water stress, whereas the latter does some soil water calculations and includes the effect of soil moisture in crop development. \n",
    "\n",
    "A simulation starts by the user selecting a soil type, a crop variety, some meteorological inputs, and some other parameters such as either the sowing or emergence date, the amount of water in the soil at the start of the simulation, etc. Once this is done, the model takes over, calculating soil hydraulics and any limitations to growth due to lack of soil water, and calculating radiation interception, photosynthesis, removing respiration losses and eventually partioning the assimilate. Defined by two crop variety parameters, the model calculates the thermal time between emergence and flowering, and between flowering and harvest, this is the development stage (DVS), which goes from 0 (emergence) to 1 (flowering) to 2 (harvest). Many processes are impacted by DVS.\n",
    "\n",
    "### Your first WOFOST run\n",
    "\n",
    "The next grid will run WOFOST and plot some graphs of some state variables with respect to time as a function of sowing and harvest date. "
   ]
  },
  {
   "cell_type": "code",
   "execution_count": 10,
   "metadata": {},
   "outputs": [
    {
     "data": {
      "application/vnd.jupyter.widget-view+json": {
       "model_id": "96e02f0a355e41f497b43c6ebc0bf9a1",
       "version_major": 2,
       "version_minor": 0
      },
      "text/plain": [
       "interactive(children=(DatePicker(value=datetime.date(2014, 7, 1), description='sowing_date'), DatePicker(value…"
      ]
     },
     "metadata": {},
     "output_type": "display_data"
    }
   ],
   "source": [
    "change_sowing_slider();"
   ]
  },
  {
   "cell_type": "code",
   "execution_count": 6,
   "metadata": {},
   "outputs": [
    {
     "name": "stdout",
     "output_type": "stream",
     "text": [
      "> \u001b[0;32m/home/ucfajlg/.local/lib/python3.6/site-packages/pcse/base/weather.py\u001b[0m(159)\u001b[0;36m__setattr__\u001b[0;34m()\u001b[0m\n",
      "\u001b[0;32m    157 \u001b[0;31m                    msg = \"Value (%s) for meteo variable '%s' outside allowed range (%s, %s).\" % (\n",
      "\u001b[0m\u001b[0;32m    158 \u001b[0;31m                    value, key, vmin, vmax)\n",
      "\u001b[0m\u001b[0;32m--> 159 \u001b[0;31m                    \u001b[0;32mraise\u001b[0m \u001b[0mexc\u001b[0m\u001b[0;34m.\u001b[0m\u001b[0mPCSEError\u001b[0m\u001b[0;34m(\u001b[0m\u001b[0mmsg\u001b[0m\u001b[0;34m)\u001b[0m\u001b[0;34m\u001b[0m\u001b[0;34m\u001b[0m\u001b[0m\n",
      "\u001b[0m\u001b[0;32m    160 \u001b[0;31m        \u001b[0mSlotPickleMixin\u001b[0m\u001b[0;34m.\u001b[0m\u001b[0m__setattr__\u001b[0m\u001b[0;34m(\u001b[0m\u001b[0mself\u001b[0m\u001b[0;34m,\u001b[0m \u001b[0mkey\u001b[0m\u001b[0;34m,\u001b[0m \u001b[0mvalue\u001b[0m\u001b[0;34m)\u001b[0m\u001b[0;34m\u001b[0m\u001b[0;34m\u001b[0m\u001b[0m\n",
      "\u001b[0m\u001b[0;32m    161 \u001b[0;31m\u001b[0;34m\u001b[0m\u001b[0m\n",
      "\u001b[0m\n",
      "ipdb> list 100\n",
      "\u001b[1;32m     95 \u001b[0m              \u001b[0;34m\"ET0\"\u001b[0m\u001b[0;34m:\u001b[0m \u001b[0;34m(\u001b[0m\u001b[0;36m0.\u001b[0m\u001b[0;34m,\u001b[0m \u001b[0;36m2.5\u001b[0m\u001b[0;34m)\u001b[0m\u001b[0;34m,\u001b[0m\u001b[0;34m\u001b[0m\u001b[0;34m\u001b[0m\u001b[0m\n",
      "\u001b[1;32m     96 \u001b[0m              \u001b[0;34m\"WIND\"\u001b[0m\u001b[0;34m:\u001b[0m \u001b[0;34m(\u001b[0m\u001b[0;36m0.\u001b[0m\u001b[0;34m,\u001b[0m \u001b[0;36m100.\u001b[0m\u001b[0;34m)\u001b[0m\u001b[0;34m,\u001b[0m\u001b[0;34m\u001b[0m\u001b[0;34m\u001b[0m\u001b[0m\n",
      "\u001b[1;32m     97 \u001b[0m              \u001b[0;34m\"SNOWDEPTH\"\u001b[0m\u001b[0;34m:\u001b[0m \u001b[0;34m(\u001b[0m\u001b[0;36m0.\u001b[0m\u001b[0;34m,\u001b[0m \u001b[0;36m250.\u001b[0m\u001b[0;34m)\u001b[0m\u001b[0;34m,\u001b[0m\u001b[0;34m\u001b[0m\u001b[0;34m\u001b[0m\u001b[0m\n",
      "\u001b[1;32m     98 \u001b[0m              \u001b[0;34m\"TEMP\"\u001b[0m\u001b[0;34m:\u001b[0m \u001b[0;34m(\u001b[0m\u001b[0;34m-\u001b[0m\u001b[0;36m50.\u001b[0m\u001b[0;34m,\u001b[0m \u001b[0;36m60.\u001b[0m\u001b[0;34m)\u001b[0m\u001b[0;34m,\u001b[0m\u001b[0;34m\u001b[0m\u001b[0;34m\u001b[0m\u001b[0m\n",
      "\u001b[1;32m     99 \u001b[0m              \"TMINRA\": (-50., 60.)}\n",
      "\u001b[1;32m    100 \u001b[0m\u001b[0;34m\u001b[0m\u001b[0m\n",
      "\u001b[1;32m    101 \u001b[0m    \u001b[0;32mdef\u001b[0m \u001b[0m__init__\u001b[0m\u001b[0;34m(\u001b[0m\u001b[0mself\u001b[0m\u001b[0;34m,\u001b[0m \u001b[0;34m*\u001b[0m\u001b[0margs\u001b[0m\u001b[0;34m,\u001b[0m \u001b[0;34m**\u001b[0m\u001b[0mkwargs\u001b[0m\u001b[0;34m)\u001b[0m\u001b[0;34m:\u001b[0m\u001b[0;34m\u001b[0m\u001b[0;34m\u001b[0m\u001b[0m\n",
      "\u001b[1;32m    102 \u001b[0m\u001b[0;34m\u001b[0m\u001b[0m\n",
      "\u001b[1;32m    103 \u001b[0m        \u001b[0;31m# only keyword parameters should be used for weather data container\u001b[0m\u001b[0;34m\u001b[0m\u001b[0;34m\u001b[0m\u001b[0;34m\u001b[0m\u001b[0m\n",
      "\u001b[1;32m    104 \u001b[0m        \u001b[0;32mif\u001b[0m \u001b[0mlen\u001b[0m\u001b[0;34m(\u001b[0m\u001b[0margs\u001b[0m\u001b[0;34m)\u001b[0m \u001b[0;34m>\u001b[0m \u001b[0;36m0\u001b[0m\u001b[0;34m:\u001b[0m\u001b[0;34m\u001b[0m\u001b[0;34m\u001b[0m\u001b[0m\n",
      "\u001b[1;32m    105 \u001b[0m            msg = (\"WeatherDataContainer should be initialized by providing weather \" +\n",
      "\n",
      "ipdb> list 90\n",
      "\u001b[1;32m     85 \u001b[0m    ranges = {\"LAT\": (-90., 90.),\n",
      "\u001b[1;32m     86 \u001b[0m              \u001b[0;34m\"LON\"\u001b[0m\u001b[0;34m:\u001b[0m \u001b[0;34m(\u001b[0m\u001b[0;34m-\u001b[0m\u001b[0;36m180.\u001b[0m\u001b[0;34m,\u001b[0m \u001b[0;36m180.\u001b[0m\u001b[0;34m)\u001b[0m\u001b[0;34m,\u001b[0m\u001b[0;34m\u001b[0m\u001b[0;34m\u001b[0m\u001b[0m\n",
      "\u001b[1;32m     87 \u001b[0m              \u001b[0;34m\"ELEV\"\u001b[0m\u001b[0;34m:\u001b[0m \u001b[0;34m(\u001b[0m\u001b[0;34m-\u001b[0m\u001b[0;36m300\u001b[0m\u001b[0;34m,\u001b[0m \u001b[0;36m6000\u001b[0m\u001b[0;34m)\u001b[0m\u001b[0;34m,\u001b[0m\u001b[0;34m\u001b[0m\u001b[0;34m\u001b[0m\u001b[0m\n",
      "\u001b[1;32m     88 \u001b[0m              \u001b[0;34m\"IRRAD\"\u001b[0m\u001b[0;34m:\u001b[0m \u001b[0;34m(\u001b[0m\u001b[0;36m0.\u001b[0m\u001b[0;34m,\u001b[0m \u001b[0;36m40e6\u001b[0m\u001b[0;34m)\u001b[0m\u001b[0;34m,\u001b[0m\u001b[0;34m\u001b[0m\u001b[0;34m\u001b[0m\u001b[0m\n",
      "\u001b[1;32m     89 \u001b[0m              \u001b[0;34m\"TMIN\"\u001b[0m\u001b[0;34m:\u001b[0m \u001b[0;34m(\u001b[0m\u001b[0;34m-\u001b[0m\u001b[0;36m50.\u001b[0m\u001b[0;34m,\u001b[0m \u001b[0;36m60.\u001b[0m\u001b[0;34m)\u001b[0m\u001b[0;34m,\u001b[0m\u001b[0;34m\u001b[0m\u001b[0;34m\u001b[0m\u001b[0m\n",
      "\u001b[1;32m     90 \u001b[0m              \u001b[0;34m\"TMAX\"\u001b[0m\u001b[0;34m:\u001b[0m \u001b[0;34m(\u001b[0m\u001b[0;34m-\u001b[0m\u001b[0;36m50.\u001b[0m\u001b[0;34m,\u001b[0m \u001b[0;36m60.\u001b[0m\u001b[0;34m)\u001b[0m\u001b[0;34m,\u001b[0m\u001b[0;34m\u001b[0m\u001b[0;34m\u001b[0m\u001b[0m\n",
      "\u001b[1;32m     91 \u001b[0m              \u001b[0;34m\"VAP\"\u001b[0m\u001b[0;34m:\u001b[0m \u001b[0;34m(\u001b[0m\u001b[0;36m0.06\u001b[0m\u001b[0;34m,\u001b[0m \u001b[0;36m199.3\u001b[0m\u001b[0;34m)\u001b[0m\u001b[0;34m,\u001b[0m  \u001b[0;31m# hPa, computed as sat. vapour pressure at -50, 60 Celsius\u001b[0m\u001b[0;34m\u001b[0m\u001b[0;34m\u001b[0m\u001b[0m\n",
      "\u001b[1;32m     92 \u001b[0m              \u001b[0;34m\"RAIN\"\u001b[0m\u001b[0;34m:\u001b[0m \u001b[0;34m(\u001b[0m\u001b[0;36m0\u001b[0m\u001b[0;34m,\u001b[0m \u001b[0;36m25\u001b[0m\u001b[0;34m)\u001b[0m\u001b[0;34m,\u001b[0m\u001b[0;34m\u001b[0m\u001b[0;34m\u001b[0m\u001b[0m\n",
      "\u001b[1;32m     93 \u001b[0m              \u001b[0;34m\"E0\"\u001b[0m\u001b[0;34m:\u001b[0m \u001b[0;34m(\u001b[0m\u001b[0;36m0.\u001b[0m\u001b[0;34m,\u001b[0m \u001b[0;36m2.5\u001b[0m\u001b[0;34m)\u001b[0m\u001b[0;34m,\u001b[0m\u001b[0;34m\u001b[0m\u001b[0;34m\u001b[0m\u001b[0m\n",
      "\u001b[1;32m     94 \u001b[0m              \u001b[0;34m\"ES0\"\u001b[0m\u001b[0;34m:\u001b[0m \u001b[0;34m(\u001b[0m\u001b[0;36m0.\u001b[0m\u001b[0;34m,\u001b[0m \u001b[0;36m2.5\u001b[0m\u001b[0;34m)\u001b[0m\u001b[0;34m,\u001b[0m\u001b[0;34m\u001b[0m\u001b[0;34m\u001b[0m\u001b[0m\n",
      "\u001b[1;32m     95 \u001b[0m              \u001b[0;34m\"ET0\"\u001b[0m\u001b[0;34m:\u001b[0m \u001b[0;34m(\u001b[0m\u001b[0;36m0.\u001b[0m\u001b[0;34m,\u001b[0m \u001b[0;36m2.5\u001b[0m\u001b[0;34m)\u001b[0m\u001b[0;34m,\u001b[0m\u001b[0;34m\u001b[0m\u001b[0;34m\u001b[0m\u001b[0m\n",
      "\n",
      "ipdb> list 80\n",
      "\u001b[1;32m     75 \u001b[0m    \u001b[0;31m# In the future __slots__ can be extended or attribute setting can be allowed\u001b[0m\u001b[0;34m\u001b[0m\u001b[0;34m\u001b[0m\u001b[0;34m\u001b[0m\u001b[0m\n",
      "\u001b[1;32m     76 \u001b[0m    \u001b[0;31m# by add '__dict__' to __slots__.\u001b[0m\u001b[0;34m\u001b[0m\u001b[0;34m\u001b[0m\u001b[0;34m\u001b[0m\u001b[0m\n",
      "\u001b[1;32m     77 \u001b[0m    \u001b[0m__slots__\u001b[0m \u001b[0;34m=\u001b[0m \u001b[0msitevar\u001b[0m \u001b[0;34m+\u001b[0m \u001b[0mrequired\u001b[0m \u001b[0;34m+\u001b[0m \u001b[0moptional\u001b[0m \u001b[0;34m+\u001b[0m \u001b[0;34m[\u001b[0m\u001b[0;34m\"DAY\"\u001b[0m\u001b[0;34m]\u001b[0m\u001b[0;34m\u001b[0m\u001b[0;34m\u001b[0m\u001b[0m\n",
      "\u001b[1;32m     78 \u001b[0m\u001b[0;34m\u001b[0m\u001b[0m\n",
      "\u001b[1;32m     79 \u001b[0m    units = {\"IRRAD\": \"J/m2/day\", \"TMIN\": \"Celsius\", \"TMAX\": \"Celsius\", \"VAP\": \"hPa\",\n",
      "\u001b[1;32m     80 \u001b[0m             \u001b[0;34m\"RAIN\"\u001b[0m\u001b[0;34m:\u001b[0m \u001b[0;34m\"cm/day\"\u001b[0m\u001b[0;34m,\u001b[0m \u001b[0;34m\"E0\"\u001b[0m\u001b[0;34m:\u001b[0m \u001b[0;34m\"cm/day\"\u001b[0m\u001b[0;34m,\u001b[0m \u001b[0;34m\"ES0\"\u001b[0m\u001b[0;34m:\u001b[0m \u001b[0;34m\"cm/day\"\u001b[0m\u001b[0;34m,\u001b[0m \u001b[0;34m\"ET0\"\u001b[0m\u001b[0;34m:\u001b[0m \u001b[0;34m\"cm/day\"\u001b[0m\u001b[0;34m,\u001b[0m\u001b[0;34m\u001b[0m\u001b[0;34m\u001b[0m\u001b[0m\n",
      "\u001b[1;32m     81 \u001b[0m             \u001b[0;34m\"LAT\"\u001b[0m\u001b[0;34m:\u001b[0m \u001b[0;34m\"Degrees\"\u001b[0m\u001b[0;34m,\u001b[0m \u001b[0;34m\"LON\"\u001b[0m\u001b[0;34m:\u001b[0m \u001b[0;34m\"Degrees\"\u001b[0m\u001b[0;34m,\u001b[0m \u001b[0;34m\"ELEV\"\u001b[0m\u001b[0;34m:\u001b[0m \u001b[0;34m\"m\"\u001b[0m\u001b[0;34m,\u001b[0m \u001b[0;34m\"SNOWDEPTH\"\u001b[0m\u001b[0;34m:\u001b[0m \u001b[0;34m\"cm\"\u001b[0m\u001b[0;34m,\u001b[0m\u001b[0;34m\u001b[0m\u001b[0;34m\u001b[0m\u001b[0m\n",
      "\u001b[1;32m     82 \u001b[0m             \"TEMP\": \"Celsius\", \"TMINRA\": \"Celsius\", \"WIND\": \"m/sec\"}\n",
      "\u001b[1;32m     83 \u001b[0m\u001b[0;34m\u001b[0m\u001b[0m\n",
      "\u001b[1;32m     84 \u001b[0m    \u001b[0;31m# ranges for meteorological variables\u001b[0m\u001b[0;34m\u001b[0m\u001b[0;34m\u001b[0m\u001b[0;34m\u001b[0m\u001b[0m\n",
      "\u001b[1;32m     85 \u001b[0m    ranges = {\"LAT\": (-90., 90.),\n",
      "\n",
      "ipdb> list 70\n",
      "\u001b[1;32m     65 \u001b[0m\u001b[0;34m\u001b[0m\u001b[0m\n",
      "\u001b[1;32m     66 \u001b[0m    \u001b[0mThere\u001b[0m \u001b[0mare\u001b[0m \u001b[0mtwo\u001b[0m \u001b[0moptional\u001b[0m \u001b[0mkeywords\u001b[0m \u001b[0marguments\u001b[0m\u001b[0;34m:\u001b[0m\u001b[0;34m\u001b[0m\u001b[0;34m\u001b[0m\u001b[0m\n",
      "\u001b[1;32m     67 \u001b[0m\u001b[0;34m\u001b[0m\u001b[0m\n",
      "\u001b[1;32m     68 \u001b[0m    \u001b[0;34m:\u001b[0m\u001b[0mkeyword\u001b[0m \u001b[0mTEMP\u001b[0m\u001b[0;34m:\u001b[0m \u001b[0mDaily\u001b[0m \u001b[0mmean\u001b[0m \u001b[0mtemperature\u001b[0m \u001b[0;34m(\u001b[0m\u001b[0mCelsius\u001b[0m\u001b[0;34m)\u001b[0m\u001b[0;34m,\u001b[0m \u001b[0mwill\u001b[0m \u001b[0motherwise\u001b[0m \u001b[0mbe\u001b[0m\u001b[0;34m\u001b[0m\u001b[0;34m\u001b[0m\u001b[0m\n",
      "\u001b[1;32m     69 \u001b[0m                   \u001b[0mderived\u001b[0m \u001b[0;32mfrom\u001b[0m \u001b[0;34m(\u001b[0m\u001b[0mTMAX\u001b[0m\u001b[0;34m+\u001b[0m\u001b[0mTMIN\u001b[0m\u001b[0;34m)\u001b[0m\u001b[0;34m/\u001b[0m\u001b[0;36m2.\u001b[0m\u001b[0;34m\u001b[0m\u001b[0;34m\u001b[0m\u001b[0m\n",
      "\u001b[1;32m     70 \u001b[0m    \u001b[0;34m:\u001b[0m\u001b[0mkeyword\u001b[0m \u001b[0mSNOWDEPTH\u001b[0m\u001b[0;34m:\u001b[0m \u001b[0mDepth\u001b[0m \u001b[0mof\u001b[0m \u001b[0msnow\u001b[0m \u001b[0mcover\u001b[0m \u001b[0;34m(\u001b[0m\u001b[0mcm\u001b[0m\u001b[0;34m)\u001b[0m\u001b[0;34m\u001b[0m\u001b[0;34m\u001b[0m\u001b[0m\n",
      "\u001b[1;32m     71 \u001b[0m    \"\"\"\n",
      "\u001b[1;32m     72 \u001b[0m    \u001b[0msitevar\u001b[0m \u001b[0;34m=\u001b[0m \u001b[0;34m[\u001b[0m\u001b[0;34m\"LAT\"\u001b[0m\u001b[0;34m,\u001b[0m \u001b[0;34m\"LON\"\u001b[0m\u001b[0;34m,\u001b[0m \u001b[0;34m\"ELEV\"\u001b[0m\u001b[0;34m]\u001b[0m\u001b[0;34m\u001b[0m\u001b[0;34m\u001b[0m\u001b[0m\n",
      "\u001b[1;32m     73 \u001b[0m    \u001b[0mrequired\u001b[0m \u001b[0;34m=\u001b[0m \u001b[0;34m[\u001b[0m\u001b[0;34m\"IRRAD\"\u001b[0m\u001b[0;34m,\u001b[0m \u001b[0;34m\"TMIN\"\u001b[0m\u001b[0;34m,\u001b[0m \u001b[0;34m\"TMAX\"\u001b[0m\u001b[0;34m,\u001b[0m \u001b[0;34m\"VAP\"\u001b[0m\u001b[0;34m,\u001b[0m \u001b[0;34m\"RAIN\"\u001b[0m\u001b[0;34m,\u001b[0m \u001b[0;34m\"E0\"\u001b[0m\u001b[0;34m,\u001b[0m \u001b[0;34m\"ES0\"\u001b[0m\u001b[0;34m,\u001b[0m \u001b[0;34m\"ET0\"\u001b[0m\u001b[0;34m,\u001b[0m \u001b[0;34m\"WIND\"\u001b[0m\u001b[0;34m]\u001b[0m\u001b[0;34m\u001b[0m\u001b[0;34m\u001b[0m\u001b[0m\n",
      "\u001b[1;32m     74 \u001b[0m    \u001b[0moptional\u001b[0m \u001b[0;34m=\u001b[0m \u001b[0;34m[\u001b[0m\u001b[0;34m\"SNOWDEPTH\"\u001b[0m\u001b[0;34m,\u001b[0m \u001b[0;34m\"TEMP\"\u001b[0m\u001b[0;34m,\u001b[0m \u001b[0;34m\"TMINRA\"\u001b[0m\u001b[0;34m]\u001b[0m\u001b[0;34m\u001b[0m\u001b[0;34m\u001b[0m\u001b[0m\n",
      "\u001b[1;32m     75 \u001b[0m    \u001b[0;31m# In the future __slots__ can be extended or attribute setting can be allowed\u001b[0m\u001b[0;34m\u001b[0m\u001b[0;34m\u001b[0m\u001b[0;34m\u001b[0m\u001b[0m\n",
      "\n",
      "ipdb> list 60\n",
      "\u001b[1;32m     55 \u001b[0m    \u001b[0;34m:\u001b[0m\u001b[0mkeyword\u001b[0m \u001b[0mDAY\u001b[0m\u001b[0;34m:\u001b[0m \u001b[0mthe\u001b[0m \u001b[0mday\u001b[0m \u001b[0mof\u001b[0m \u001b[0mobservation\u001b[0m \u001b[0;34m(\u001b[0m\u001b[0mpython\u001b[0m \u001b[0mdatetime\u001b[0m\u001b[0;34m.\u001b[0m\u001b[0mdate\u001b[0m\u001b[0;34m)\u001b[0m\u001b[0;34m\u001b[0m\u001b[0;34m\u001b[0m\u001b[0m\n",
      "\u001b[1;32m     56 \u001b[0m    \u001b[0;34m:\u001b[0m\u001b[0mkeyword\u001b[0m \u001b[0mIRRAD\u001b[0m\u001b[0;34m:\u001b[0m \u001b[0mIncoming\u001b[0m \u001b[0;32mglobal\u001b[0m \u001b[0mradiaiton\u001b[0m \u001b[0;34m(\u001b[0m\u001b[0mJ\u001b[0m\u001b[0;34m/\u001b[0m\u001b[0mm2\u001b[0m\u001b[0;34m/\u001b[0m\u001b[0mday\u001b[0m\u001b[0;34m)\u001b[0m\u001b[0;34m\u001b[0m\u001b[0;34m\u001b[0m\u001b[0m\n",
      "\u001b[1;32m     57 \u001b[0m    \u001b[0;34m:\u001b[0m\u001b[0mkeyword\u001b[0m \u001b[0mTMIN\u001b[0m\u001b[0;34m:\u001b[0m \u001b[0mDaily\u001b[0m \u001b[0mminimum\u001b[0m \u001b[0mtemperature\u001b[0m \u001b[0;34m(\u001b[0m\u001b[0mCelsius\u001b[0m\u001b[0;34m)\u001b[0m\u001b[0;34m\u001b[0m\u001b[0;34m\u001b[0m\u001b[0m\n",
      "\u001b[1;32m     58 \u001b[0m    \u001b[0;34m:\u001b[0m\u001b[0mkeyword\u001b[0m \u001b[0mTMAX\u001b[0m\u001b[0;34m:\u001b[0m \u001b[0mDaily\u001b[0m \u001b[0mmaximum\u001b[0m \u001b[0mtemperature\u001b[0m \u001b[0;34m(\u001b[0m\u001b[0mCelsius\u001b[0m\u001b[0;34m)\u001b[0m\u001b[0;34m\u001b[0m\u001b[0;34m\u001b[0m\u001b[0m\n",
      "\u001b[1;32m     59 \u001b[0m    \u001b[0;34m:\u001b[0m\u001b[0mkeyword\u001b[0m \u001b[0mVAP\u001b[0m\u001b[0;34m:\u001b[0m \u001b[0mDaily\u001b[0m \u001b[0mmean\u001b[0m \u001b[0mvapour\u001b[0m \u001b[0mpressure\u001b[0m \u001b[0;34m(\u001b[0m\u001b[0mhPa\u001b[0m\u001b[0;34m)\u001b[0m\u001b[0;34m\u001b[0m\u001b[0;34m\u001b[0m\u001b[0m\n",
      "\u001b[1;32m     60 \u001b[0m    \u001b[0;34m:\u001b[0m\u001b[0mkeyword\u001b[0m \u001b[0mRAIN\u001b[0m\u001b[0;34m:\u001b[0m \u001b[0mDaily\u001b[0m \u001b[0mtotal\u001b[0m \u001b[0mrainfall\u001b[0m \u001b[0;34m(\u001b[0m\u001b[0mcm\u001b[0m\u001b[0;34m/\u001b[0m\u001b[0mday\u001b[0m\u001b[0;34m)\u001b[0m\u001b[0;34m\u001b[0m\u001b[0;34m\u001b[0m\u001b[0m\n",
      "\u001b[1;32m     61 \u001b[0m    \u001b[0;34m:\u001b[0m\u001b[0mkeyword\u001b[0m \u001b[0mWIND\u001b[0m\u001b[0;34m:\u001b[0m \u001b[0mDaily\u001b[0m \u001b[0mmean\u001b[0m \u001b[0mwind\u001b[0m \u001b[0mspeed\u001b[0m \u001b[0mat\u001b[0m \u001b[0;36m2\u001b[0m\u001b[0mm\u001b[0m \u001b[0mheight\u001b[0m \u001b[0;34m(\u001b[0m\u001b[0mm\u001b[0m\u001b[0;34m/\u001b[0m\u001b[0msec\u001b[0m\u001b[0;34m)\u001b[0m\u001b[0;34m\u001b[0m\u001b[0;34m\u001b[0m\u001b[0m\n",
      "\u001b[1;32m     62 \u001b[0m    \u001b[0;34m:\u001b[0m\u001b[0mkeyword\u001b[0m \u001b[0mE0\u001b[0m\u001b[0;34m:\u001b[0m \u001b[0mDaily\u001b[0m \u001b[0mevaporation\u001b[0m \u001b[0mrate\u001b[0m \u001b[0;32mfrom\u001b[0m \u001b[0mopen\u001b[0m \u001b[0mwater\u001b[0m \u001b[0;34m(\u001b[0m\u001b[0mcm\u001b[0m\u001b[0;34m/\u001b[0m\u001b[0mday\u001b[0m\u001b[0;34m)\u001b[0m\u001b[0;34m\u001b[0m\u001b[0;34m\u001b[0m\u001b[0m\n",
      "\u001b[1;32m     63 \u001b[0m    \u001b[0;34m:\u001b[0m\u001b[0mkeyword\u001b[0m \u001b[0mES0\u001b[0m\u001b[0;34m:\u001b[0m \u001b[0mDaily\u001b[0m \u001b[0mevaporation\u001b[0m \u001b[0mrate\u001b[0m \u001b[0;32mfrom\u001b[0m \u001b[0mbare\u001b[0m \u001b[0msoil\u001b[0m \u001b[0;34m(\u001b[0m\u001b[0mcm\u001b[0m\u001b[0;34m/\u001b[0m\u001b[0mday\u001b[0m\u001b[0;34m)\u001b[0m\u001b[0;34m\u001b[0m\u001b[0;34m\u001b[0m\u001b[0m\n",
      "\u001b[1;32m     64 \u001b[0m    \u001b[0;34m:\u001b[0m\u001b[0mkeyword\u001b[0m \u001b[0mET0\u001b[0m\u001b[0;34m:\u001b[0m \u001b[0mDaily\u001b[0m \u001b[0mevapotranspiration\u001b[0m \u001b[0mrate\u001b[0m \u001b[0;32mfrom\u001b[0m \u001b[0mreference\u001b[0m \u001b[0mcrop\u001b[0m \u001b[0;34m(\u001b[0m\u001b[0mcm\u001b[0m\u001b[0;34m/\u001b[0m\u001b[0mday\u001b[0m\u001b[0;34m)\u001b[0m\u001b[0;34m\u001b[0m\u001b[0;34m\u001b[0m\u001b[0m\n",
      "\u001b[1;32m     65 \u001b[0m\u001b[0;34m\u001b[0m\u001b[0m\n",
      "\n"
     ]
    },
    {
     "name": "stdout",
     "output_type": "stream",
     "text": [
      "ipdb> list 50\n",
      "\u001b[1;32m     45 \u001b[0m    \u001b[0mWeather\u001b[0m \u001b[0mdata\u001b[0m \u001b[0melements\u001b[0m \u001b[0mare\u001b[0m \u001b[0mprovided\u001b[0m \u001b[0mthrough\u001b[0m \u001b[0mkeywords\u001b[0m \u001b[0mthat\u001b[0m \u001b[0mare\u001b[0m \u001b[0malso\u001b[0m \u001b[0mthe\u001b[0m\u001b[0;34m\u001b[0m\u001b[0;34m\u001b[0m\u001b[0m\n",
      "\u001b[1;32m     46 \u001b[0m    \u001b[0mattribute\u001b[0m \u001b[0mnames\u001b[0m \u001b[0munder\u001b[0m \u001b[0mwhich\u001b[0m \u001b[0mthe\u001b[0m \u001b[0mvariables\u001b[0m \u001b[0mcan\u001b[0m \u001b[0maccessed\u001b[0m \u001b[0;32min\u001b[0m \u001b[0mthe\u001b[0m\u001b[0;34m\u001b[0m\u001b[0;34m\u001b[0m\u001b[0m\n",
      "\u001b[1;32m     47 \u001b[0m    \u001b[0mWeatherDataContainer\u001b[0m\u001b[0;34m.\u001b[0m \u001b[0mSo\u001b[0m \u001b[0mthe\u001b[0m \u001b[0mkeyword\u001b[0m \u001b[0mTMAX\u001b[0m\u001b[0;34m=\u001b[0m\u001b[0;36m15\u001b[0m \u001b[0msets\u001b[0m \u001b[0man\u001b[0m \u001b[0mattribute\u001b[0m\u001b[0;34m\u001b[0m\u001b[0;34m\u001b[0m\u001b[0m\n",
      "\u001b[1;32m     48 \u001b[0m    \u001b[0mTMAX\u001b[0m \u001b[0;32mwith\u001b[0m \u001b[0mvalue\u001b[0m \u001b[0;36m15.\u001b[0m\u001b[0;34m\u001b[0m\u001b[0;34m\u001b[0m\u001b[0m\n",
      "\u001b[1;32m     49 \u001b[0m\u001b[0;34m\u001b[0m\u001b[0m\n",
      "\u001b[1;32m     50 \u001b[0m    \u001b[0mThe\u001b[0m \u001b[0mfollowing\u001b[0m \u001b[0mkeywords\u001b[0m \u001b[0mare\u001b[0m \u001b[0mcompulsory\u001b[0m\u001b[0;34m:\u001b[0m\u001b[0;34m\u001b[0m\u001b[0;34m\u001b[0m\u001b[0m\n",
      "\u001b[1;32m     51 \u001b[0m\u001b[0;34m\u001b[0m\u001b[0m\n",
      "\u001b[1;32m     52 \u001b[0m    \u001b[0;34m:\u001b[0m\u001b[0mkeyword\u001b[0m \u001b[0mLAT\u001b[0m\u001b[0;34m:\u001b[0m \u001b[0mLatitude\u001b[0m \u001b[0mof\u001b[0m \u001b[0mlocation\u001b[0m \u001b[0;34m(\u001b[0m\u001b[0mdecimal\u001b[0m \u001b[0mdegree\u001b[0m\u001b[0;34m)\u001b[0m\u001b[0;34m\u001b[0m\u001b[0;34m\u001b[0m\u001b[0m\n",
      "\u001b[1;32m     53 \u001b[0m    \u001b[0;34m:\u001b[0m\u001b[0mkeyword\u001b[0m \u001b[0mLON\u001b[0m\u001b[0;34m:\u001b[0m \u001b[0mLongitude\u001b[0m \u001b[0mof\u001b[0m \u001b[0mlocation\u001b[0m \u001b[0;34m(\u001b[0m\u001b[0mdecimal\u001b[0m \u001b[0mdegree\u001b[0m\u001b[0;34m)\u001b[0m\u001b[0;34m\u001b[0m\u001b[0;34m\u001b[0m\u001b[0m\n",
      "\u001b[1;32m     54 \u001b[0m    \u001b[0;34m:\u001b[0m\u001b[0mkeyword\u001b[0m \u001b[0mELEV\u001b[0m\u001b[0;34m:\u001b[0m \u001b[0mElevation\u001b[0m \u001b[0mof\u001b[0m \u001b[0mlocation\u001b[0m \u001b[0;34m(\u001b[0m\u001b[0mmeters\u001b[0m\u001b[0;34m)\u001b[0m\u001b[0;34m\u001b[0m\u001b[0;34m\u001b[0m\u001b[0m\n",
      "\u001b[1;32m     55 \u001b[0m    \u001b[0;34m:\u001b[0m\u001b[0mkeyword\u001b[0m \u001b[0mDAY\u001b[0m\u001b[0;34m:\u001b[0m \u001b[0mthe\u001b[0m \u001b[0mday\u001b[0m \u001b[0mof\u001b[0m \u001b[0mobservation\u001b[0m \u001b[0;34m(\u001b[0m\u001b[0mpython\u001b[0m \u001b[0mdatetime\u001b[0m\u001b[0;34m.\u001b[0m\u001b[0mdate\u001b[0m\u001b[0;34m)\u001b[0m\u001b[0;34m\u001b[0m\u001b[0;34m\u001b[0m\u001b[0m\n",
      "\n",
      "ipdb> list 40\n",
      "\u001b[1;32m     35 \u001b[0m        )\n",
      "\u001b[1;32m     36 \u001b[0m\u001b[0;34m\u001b[0m\u001b[0m\n",
      "\u001b[1;32m     37 \u001b[0m    \u001b[0;32mdef\u001b[0m \u001b[0m__setstate__\u001b[0m\u001b[0;34m(\u001b[0m\u001b[0mself\u001b[0m\u001b[0;34m,\u001b[0m \u001b[0mstate\u001b[0m\u001b[0;34m)\u001b[0m\u001b[0;34m:\u001b[0m\u001b[0;34m\u001b[0m\u001b[0;34m\u001b[0m\u001b[0m\n",
      "\u001b[1;32m     38 \u001b[0m        \u001b[0;32mfor\u001b[0m \u001b[0mslot\u001b[0m\u001b[0;34m,\u001b[0m \u001b[0mvalue\u001b[0m \u001b[0;32min\u001b[0m \u001b[0mstate\u001b[0m\u001b[0;34m.\u001b[0m\u001b[0mitems\u001b[0m\u001b[0;34m(\u001b[0m\u001b[0;34m)\u001b[0m\u001b[0;34m:\u001b[0m\u001b[0;34m\u001b[0m\u001b[0;34m\u001b[0m\u001b[0m\n",
      "\u001b[1;32m     39 \u001b[0m            \u001b[0msetattr\u001b[0m\u001b[0;34m(\u001b[0m\u001b[0mself\u001b[0m\u001b[0;34m,\u001b[0m \u001b[0mslot\u001b[0m\u001b[0;34m,\u001b[0m \u001b[0mvalue\u001b[0m\u001b[0;34m)\u001b[0m\u001b[0;34m\u001b[0m\u001b[0;34m\u001b[0m\u001b[0m\n",
      "\u001b[1;32m     40 \u001b[0m\u001b[0;34m\u001b[0m\u001b[0m\n",
      "\u001b[1;32m     41 \u001b[0m\u001b[0;34m\u001b[0m\u001b[0m\n",
      "\u001b[1;32m     42 \u001b[0m\u001b[0;32mclass\u001b[0m \u001b[0mWeatherDataContainer\u001b[0m\u001b[0;34m(\u001b[0m\u001b[0mSlotPickleMixin\u001b[0m\u001b[0;34m)\u001b[0m\u001b[0;34m:\u001b[0m\u001b[0;34m\u001b[0m\u001b[0;34m\u001b[0m\u001b[0m\n",
      "\u001b[1;32m     43 \u001b[0m    \"\"\"Class for storing weather data elements.\n",
      "\u001b[1;32m     44 \u001b[0m\u001b[0;34m\u001b[0m\u001b[0m\n",
      "\u001b[1;32m     45 \u001b[0m    \u001b[0mWeather\u001b[0m \u001b[0mdata\u001b[0m \u001b[0melements\u001b[0m \u001b[0mare\u001b[0m \u001b[0mprovided\u001b[0m \u001b[0mthrough\u001b[0m \u001b[0mkeywords\u001b[0m \u001b[0mthat\u001b[0m \u001b[0mare\u001b[0m \u001b[0malso\u001b[0m \u001b[0mthe\u001b[0m\u001b[0;34m\u001b[0m\u001b[0;34m\u001b[0m\u001b[0m\n",
      "\n",
      "ipdb> q\n"
     ]
    }
   ],
   "source": [
    "debug"
   ]
  },
  {
   "cell_type": "code",
   "execution_count": null,
   "metadata": {},
   "outputs": [],
   "source": []
  }
 ],
 "metadata": {
  "kernelspec": {
   "display_name": "Python 3",
   "language": "python",
   "name": "python3"
  },
  "language_info": {
   "codemirror_mode": {
    "name": "ipython",
    "version": 3
   },
   "file_extension": ".py",
   "mimetype": "text/x-python",
   "name": "python",
   "nbconvert_exporter": "python",
   "pygments_lexer": "ipython3",
   "version": "3.6.7"
  },
  "toc": {
   "base_numbering": 1,
   "nav_menu": {},
   "number_sections": true,
   "sideBar": true,
   "skip_h1_title": true,
   "title_cell": "Table of Contents",
   "title_sidebar": "Contents",
   "toc_cell": true,
   "toc_position": {},
   "toc_section_display": true,
   "toc_window_display": false
  },
  "varInspector": {
   "cols": {
    "lenName": 16,
    "lenType": 16,
    "lenVar": 40
   },
   "kernels_config": {
    "python": {
     "delete_cmd_postfix": "",
     "delete_cmd_prefix": "del ",
     "library": "var_list.py",
     "varRefreshCmd": "print(var_dic_list())"
    },
    "r": {
     "delete_cmd_postfix": ") ",
     "delete_cmd_prefix": "rm(",
     "library": "var_list.r",
     "varRefreshCmd": "cat(var_dic_list()) "
    }
   },
   "types_to_exclude": [
    "module",
    "function",
    "builtin_function_or_method",
    "instance",
    "_Feature"
   ],
   "window_display": false
  }
 },
 "nbformat": 4,
 "nbformat_minor": 2
}
