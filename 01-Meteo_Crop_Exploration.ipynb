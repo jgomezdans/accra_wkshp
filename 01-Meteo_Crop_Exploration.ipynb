{
 "cells": [
  {
   "cell_type": "markdown",
   "metadata": {
    "toc": true
   },
   "source": [
    "<h1>Table of Contents<span class=\"tocSkip\"></span></h1>\n",
    "<div class=\"toc\"><ul class=\"toc-item\"><li><span><a href=\"#Meteorological-inputs\" data-toc-modified-id=\"Meteorological-inputs-1\"><span class=\"toc-item-num\">1&nbsp;&nbsp;</span>Meteorological inputs</a></span></li><li><span><a href=\"#A-better-way-to-plot-the-data\" data-toc-modified-id=\"A-better-way-to-plot-the-data-2\"><span class=\"toc-item-num\">2&nbsp;&nbsp;</span>A better way to plot the data</a></span></li></ul></div>"
   ]
  },
  {
   "cell_type": "code",
   "execution_count": 20,
   "metadata": {
    "ExecuteTime": {
     "end_time": "2019-11-04T17:39:49.018023Z",
     "start_time": "2019-11-04T17:39:47.983110Z"
    }
   },
   "outputs": [
    {
     "name": "stdout",
     "output_type": "stream",
     "text": [
      "The autoreload extension is already loaded. To reload it, use:\n",
      "  %reload_ext autoreload\n"
     ]
    }
   ],
   "source": [
    "%load_ext autoreload\n",
    "%autoreload 2\n",
    "\n",
    "\n",
    "import datetime as dt\n",
    "from pathlib import Path\n",
    "import numpy as np\n",
    "import matplotlib.pyplot as plt\n",
    "%matplotlib inline\n",
    "import pandas as pd\n",
    "\n",
    "from pandas.plotting import register_matplotlib_converters\n",
    "register_matplotlib_converters()\n",
    "\n",
    "from meteo_funcs import *"
   ]
  },
  {
   "cell_type": "markdown",
   "metadata": {},
   "source": [
    "# Meteorological data and crops\n",
    "\n",
    "## Meteorological inputs\n",
    "\n",
    "Meteorology is a major factor in determining crop growth. Crop models require meteo inputs to calculate crop development (phenology), carbon assimilation (e.g. photosynthesis) and calculate any stresses (e.g. effect of drought). Accurate and timely sources of meteorological data are hard to come by. Recent developments in the operationalistation of reanalysis datasets (where a climate model is combined with the best observational record to produce an *analysis* of the state of the climate system) now routinely provide global fields of meteorological data. We note that this data is probably inaccurate at small scales, but it's availability means that we can run crop models anywhere.\n",
    "\n",
    "For these examples, we'll be using the [ERA 5 Reanalysis product](https://cds.climate.copernicus.eu/cdsapp#!/dataset/reanalysis-era5-single-levels?tab=overview) from the [Copernicus Climate Change Service](https://cds.climate.copernicus.eu/cdsapp#!/home) (note that a newer version over land, [ERA5-Land](https://cds.climate.copernicus.eu/cdsapp#!/dataset/reanalysis-era5-land?tab=overview) has also been recently been made available).\n",
    "\n",
    "The variables of interest for most crop models are:\n",
    "\n",
    "* Downwelling radiance\n",
    "* Minimum and maximum daily temperatures\n",
    "* Vapour pressure\n",
    "* Wind speed\n",
    "* Precipitation\n",
    "\n",
    "It is probably fair to say that estimates of things like precipitation and wind speed will be very local, and the global reanalysis data will look quite different to local *in situ* measurements. Likewise, radiance and temperatures can probably suffer from very local biases due to local orography. These observations suggest that the drivers of our crop model will be **in error** or have some degree of uncertainty associated to them, and this uncertainty will be carried on to the model output.\n",
    "\n",
    "It also means that all crops within a grid cell will all share the same drivers. Assuming they all share information on crop variety and soils (or have soils parameterised again in error), it means that all crops within a meteo cell will have the same evolution, as the crop model only knows about parameters, meteo and soils! This is clearly very different to what we see in reality, where there is a very large variation of crop evolution and condition even within a single field.\n",
    "\n",
    "Data assimilation techniques are one way to locally \"correct\" the crop growth model to track the actual situation that is happening in the field. By using a partial view of the crop (e.g. the LAI, or soil moisture, etc.), we can see whether the prediction from the crop model follows the observations (given their often substantial uncertainty), and then correct the model to track the observations.\n",
    "\n",
    "Data for all of Africa from years 2010 until 2019 has been provided for you (it is possible to downnload it, but can take a while). Due to problems with the infrastructure, we are only able to provide you with meteorological data for a few points, which we have taken to be the centroid of each of Ghana's regions.\n"
   ]
  },
  {
   "cell_type": "code",
   "execution_count": 21,
   "metadata": {
    "ExecuteTime": {
     "end_time": "2019-11-04T17:39:57.053684Z",
     "start_time": "2019-11-04T17:39:53.475091Z"
    }
   },
   "outputs": [
    {
     "data": {
      "application/vnd.jupyter.widget-view+json": {
       "model_id": "986d9896612640bd89c6f1fba556e7d2",
       "version_major": 2,
       "version_minor": 0
      },
      "text/plain": [
       "interactive(children=(Dropdown(description='Region:', index=2, options=('Ashanti', 'Brong_Ahafo', 'Central', '…"
      ]
     },
     "metadata": {},
     "output_type": "display_data"
    }
   ],
   "source": [
    "get_region_data();"
   ]
  },
  {
   "cell_type": "markdown",
   "metadata": {},
   "source": [
    "The previous plots are hard to visualise. What's really *going on* there? We can clearly see a temperature seasonality, with cooler temperatures around days of the year 200 to 300. We can also see that the irradiance is very changing, and we can also see that wind speed and vapour pressure deficit are probably not very accurate estimates. Precipitation is also very changing, but it is hard to see any trends. \n",
    "\n",
    "\n",
    "## A better way to plot the data\n",
    "\n",
    "We need to think of a better way to display the data. We can look up [a crop calendar](http://www.fao.org/agriculture/seed/cropcalendar/welcome.do) (or even direct understanding) to see the period where the crop is present. This is an oversimplification, but it's a starting point. We can then think of ways of aggregating the data. The following exercise allows you to plot variables using different starting and ending times."
   ]
  },
  {
   "cell_type": "code",
   "execution_count": 24,
   "metadata": {
    "ExecuteTime": {
     "end_time": "2019-11-04T18:45:24.174097Z",
     "start_time": "2019-11-04T18:45:24.024009Z"
    }
   },
   "outputs": [
    {
     "data": {
      "application/vnd.jupyter.widget-view+json": {
       "model_id": "c12a7a963d2c4384b065f32f95c58925",
       "version_major": 2,
       "version_minor": 0
      },
      "text/plain": [
       "interactive(children=(SelectionRangeSlider(description='Sowing & Harvest', index=(0, 364), layout=Layout(width…"
      ]
     },
     "metadata": {},
     "output_type": "display_data"
    }
   ],
   "source": [
    "aggregate_plots();"
   ]
  },
  {
   "cell_type": "markdown",
   "metadata": {},
   "source": [
    "# Some observations\n",
    "\n",
    "The above plots show that we can have a rough idea of crop condition based on meteorological data. However,\n",
    "\n",
    "* Meteorological data is only available at a fairly sparse resolution.\n",
    "* Reanalysis data should be compared with *in situ* measurements to understand its limitations, which are many and change from region to region and seasonally.\n",
    "* Although seasonal forecasts are becoming more common, their skill may hamper sensible predictions.\n",
    "* Weather is one of the many factors affecting crop growth. Other important factors are to do with soils, crop variety, farmer management decisions, pests, etc.\n",
    "\n",
    "The last point is very important: meteorological data is important, but insufficient on its own to give us insights into crop development."
   ]
  },
  {
   "cell_type": "code",
   "execution_count": null,
   "metadata": {},
   "outputs": [],
   "source": []
  }
 ],
 "metadata": {
  "kernelspec": {
   "display_name": "Python 3",
   "language": "python",
   "name": "python3"
  },
  "language_info": {
   "codemirror_mode": {
    "name": "ipython",
    "version": 3
   },
   "file_extension": ".py",
   "mimetype": "text/x-python",
   "name": "python",
   "nbconvert_exporter": "python",
   "pygments_lexer": "ipython3",
   "version": "3.6.7"
  },
  "toc": {
   "base_numbering": 1,
   "nav_menu": {},
   "number_sections": true,
   "sideBar": true,
   "skip_h1_title": true,
   "title_cell": "Table of Contents",
   "title_sidebar": "Contents",
   "toc_cell": true,
   "toc_position": {},
   "toc_section_display": true,
   "toc_window_display": false
  },
  "varInspector": {
   "cols": {
    "lenName": 16,
    "lenType": 16,
    "lenVar": 40
   },
   "kernels_config": {
    "python": {
     "delete_cmd_postfix": "",
     "delete_cmd_prefix": "del ",
     "library": "var_list.py",
     "varRefreshCmd": "print(var_dic_list())"
    },
    "r": {
     "delete_cmd_postfix": ") ",
     "delete_cmd_prefix": "rm(",
     "library": "var_list.r",
     "varRefreshCmd": "cat(var_dic_list()) "
    }
   },
   "types_to_exclude": [
    "module",
    "function",
    "builtin_function_or_method",
    "instance",
    "_Feature"
   ],
   "window_display": false
  }
 },
 "nbformat": 4,
 "nbformat_minor": 4
}
