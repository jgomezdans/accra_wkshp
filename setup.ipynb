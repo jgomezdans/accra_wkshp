{
 "cells": [
  {
   "cell_type": "code",
   "execution_count": 1,
   "metadata": {},
   "outputs": [],
   "source": [
    "import datetime\n",
    "import numpy as np\n",
    "import matplotlib.pyplot as plt\n",
    "%matplotlib inline\n",
    "import matplotlib\n",
    "import pandas as pd\n",
    "\n",
    "from wofost_utils import *"
   ]
  },
  {
   "cell_type": "code",
   "execution_count": 3,
   "metadata": {},
   "outputs": [
    {
     "name": "stderr",
     "output_type": "stream",
     "text": [
      "/home/ucfajlg/.local/lib/python3.6/site-packages/pcse/fileinput/yaml_agro_loader.py:21: YAMLLoadWarning: calling yaml.load() without Loader=... is deprecated, as the default Loader is unsafe. Please read https://msg.pyyaml.org/load for full details.\n",
      "  r = yaml.load(fp)\n",
      "/home/ucfajlg/anaconda/lib/python3.6/site-packages/pandas/plotting/_matplotlib/converter.py:103: FutureWarning: Using an implicitly registered datetime converter for a matplotlib plotting method. The converter was registered by pandas on import. Future versions of pandas will require you to explicitly register matplotlib converters.\n",
      "\n",
      "To register the converters:\n",
      "\t>>> from pandas.plotting import register_matplotlib_converters\n",
      "\t>>> register_matplotlib_converters()\n",
      "  warnings.warn(msg, FutureWarning)\n"
     ]
    },
    {
     "data": {
      "text/plain": [
       "(734197.0, 734446.05)"
      ]
     },
     "execution_count": 3,
     "metadata": {},
     "output_type": "execute_result"
    },
    {
     "data": {
      "image/png": "[encoded data removed]",
      "text/plain": [
       "<Figure size 432x288 with 1 Axes>"
      ]
     },
     "metadata": {
      "needs_background": "light"
     },
     "output_type": "display_data"
    }
   ],
   "source": [
    "meteo=\"Ghana\"\n",
    "crop=\"maize\"\n",
    "variety=\"Maize_VanHeemst_1988\"\n",
    "soil = \"ec4.new\"\n",
    "mgmt=\"ghana_maize.amgt\"\n",
    "\n",
    "sowing_date = datetime.date(2011, 7, 1)\n",
    "parameters, agromanagement, wdp = set_up_wofost(meteo, crop, variety, soil, mgmt, \n",
    "                                                wav=0, co2=400, rdmsol=100.)\n",
    "\n",
    "while sowing_date < datetime.date(2011, 8, 1):\n",
    "    agromanagement[0][datetime.date(2011, 1, 1)]['CropCalendar']['crop_start_date'] = sowing_date\n",
    "    df_results, simulator = run_wofost(parameters, agromanagement, wdp,\n",
    "                                      potential=False)\n",
    "    sowing_date += datetime.timedelta(days=10)\n",
    "    plt.plot_date(df_results.index, df_results.TAGP)\n",
    "#fig.autofmt_xdate()\n",
    "plt.gcf().autofmt_xdate()\n",
    "plt.gca().fmt_xdata = matplotlib.dates.DateFormatter('%Y-%m-%d')\n",
    "plt.xlim(datetime.date(2011, 3, 1))"
   ]
  },
  {
   "cell_type": "markdown",
   "metadata": {},
   "source": [
    "# Things to do\n",
    "\n",
    "* Plot meteo inputs\n",
    "* Allow the user to select different sowing dates\n",
    "* Allow the suer to select different years\n",
    "* Change model parameters e.g. WAV, TSUM1, TSUM2, CVO (maybe)\n",
    "* Wrap this in ipywidgets"
   ]
  },
  {
   "cell_type": "code",
   "execution_count": 19,
   "metadata": {},
   "outputs": [
    {
     "data": {
      "text/plain": [
       "Index(['DVS', 'LAI', 'TAGP', 'TWSO', 'TWLV', 'TWST', 'TWRT', 'TRA', 'RD', 'SM',\n",
       "       'WWLOW'],\n",
       "      dtype='object')"
      ]
     },
     "execution_count": 19,
     "metadata": {},
     "output_type": "execute_result"
    }
   ],
   "source": [
    "df_results.columns"
   ]
  },
  {
   "cell_type": "code",
   "execution_count": null,
   "metadata": {},
   "outputs": [],
   "source": []
  }
 ],
 "metadata": {
  "kernelspec": {
   "display_name": "Python 3",
   "language": "python",
   "name": "python3"
  },
  "language_info": {
   "codemirror_mode": {
    "name": "ipython",
    "version": 3
   },
   "file_extension": ".py",
   "mimetype": "text/x-python",
   "name": "python",
   "nbconvert_exporter": "python",
   "pygments_lexer": "ipython3",
   "version": "3.6.7"
  }
 },
 "nbformat": 4,
 "nbformat_minor": 4
}
